{
 "cells": [
  {
   "cell_type": "code",
   "execution_count": 1,
   "metadata": {},
   "outputs": [],
   "source": [
    "import pandas as pd\n",
    "import numpy as np\n",
    "import matplotlib.pyplot as plt\n",
    "import seaborn as sns"
   ]
  },
  {
   "cell_type": "code",
   "execution_count": 2,
   "metadata": {},
   "outputs": [],
   "source": [
    "titanic=pd.read_csv('titanic_train.csv')"
   ]
  },
  {
   "cell_type": "code",
   "execution_count": 3,
   "metadata": {},
   "outputs": [
    {
     "data": {
      "text/html": [
       "<div>\n",
       "<style scoped>\n",
       "    .dataframe tbody tr th:only-of-type {\n",
       "        vertical-align: middle;\n",
       "    }\n",
       "\n",
       "    .dataframe tbody tr th {\n",
       "        vertical-align: top;\n",
       "    }\n",
       "\n",
       "    .dataframe thead th {\n",
       "        text-align: right;\n",
       "    }\n",
       "</style>\n",
       "<table border=\"1\" class=\"dataframe\">\n",
       "  <thead>\n",
       "    <tr style=\"text-align: right;\">\n",
       "      <th></th>\n",
       "      <th>PassengerId</th>\n",
       "      <th>Survived</th>\n",
       "      <th>Pclass</th>\n",
       "      <th>Name</th>\n",
       "      <th>Sex</th>\n",
       "      <th>Age</th>\n",
       "      <th>SibSp</th>\n",
       "      <th>Parch</th>\n",
       "      <th>Ticket</th>\n",
       "      <th>Fare</th>\n",
       "      <th>Cabin</th>\n",
       "      <th>Embarked</th>\n",
       "    </tr>\n",
       "  </thead>\n",
       "  <tbody>\n",
       "    <tr>\n",
       "      <th>0</th>\n",
       "      <td>1</td>\n",
       "      <td>0</td>\n",
       "      <td>3</td>\n",
       "      <td>Braund, Mr. Owen Harris</td>\n",
       "      <td>male</td>\n",
       "      <td>22.0</td>\n",
       "      <td>1</td>\n",
       "      <td>0</td>\n",
       "      <td>A/5 21171</td>\n",
       "      <td>7.2500</td>\n",
       "      <td>NaN</td>\n",
       "      <td>S</td>\n",
       "    </tr>\n",
       "    <tr>\n",
       "      <th>1</th>\n",
       "      <td>2</td>\n",
       "      <td>1</td>\n",
       "      <td>1</td>\n",
       "      <td>Cumings, Mrs. John Bradley (Florence Briggs Th...</td>\n",
       "      <td>female</td>\n",
       "      <td>38.0</td>\n",
       "      <td>1</td>\n",
       "      <td>0</td>\n",
       "      <td>PC 17599</td>\n",
       "      <td>71.2833</td>\n",
       "      <td>C85</td>\n",
       "      <td>C</td>\n",
       "    </tr>\n",
       "    <tr>\n",
       "      <th>2</th>\n",
       "      <td>3</td>\n",
       "      <td>1</td>\n",
       "      <td>3</td>\n",
       "      <td>Heikkinen, Miss. Laina</td>\n",
       "      <td>female</td>\n",
       "      <td>26.0</td>\n",
       "      <td>0</td>\n",
       "      <td>0</td>\n",
       "      <td>STON/O2. 3101282</td>\n",
       "      <td>7.9250</td>\n",
       "      <td>NaN</td>\n",
       "      <td>S</td>\n",
       "    </tr>\n",
       "    <tr>\n",
       "      <th>3</th>\n",
       "      <td>4</td>\n",
       "      <td>1</td>\n",
       "      <td>1</td>\n",
       "      <td>Futrelle, Mrs. Jacques Heath (Lily May Peel)</td>\n",
       "      <td>female</td>\n",
       "      <td>35.0</td>\n",
       "      <td>1</td>\n",
       "      <td>0</td>\n",
       "      <td>113803</td>\n",
       "      <td>53.1000</td>\n",
       "      <td>C123</td>\n",
       "      <td>S</td>\n",
       "    </tr>\n",
       "    <tr>\n",
       "      <th>4</th>\n",
       "      <td>5</td>\n",
       "      <td>0</td>\n",
       "      <td>3</td>\n",
       "      <td>Allen, Mr. William Henry</td>\n",
       "      <td>male</td>\n",
       "      <td>35.0</td>\n",
       "      <td>0</td>\n",
       "      <td>0</td>\n",
       "      <td>373450</td>\n",
       "      <td>8.0500</td>\n",
       "      <td>NaN</td>\n",
       "      <td>S</td>\n",
       "    </tr>\n",
       "    <tr>\n",
       "      <th>...</th>\n",
       "      <td>...</td>\n",
       "      <td>...</td>\n",
       "      <td>...</td>\n",
       "      <td>...</td>\n",
       "      <td>...</td>\n",
       "      <td>...</td>\n",
       "      <td>...</td>\n",
       "      <td>...</td>\n",
       "      <td>...</td>\n",
       "      <td>...</td>\n",
       "      <td>...</td>\n",
       "      <td>...</td>\n",
       "    </tr>\n",
       "    <tr>\n",
       "      <th>886</th>\n",
       "      <td>887</td>\n",
       "      <td>0</td>\n",
       "      <td>2</td>\n",
       "      <td>Montvila, Rev. Juozas</td>\n",
       "      <td>male</td>\n",
       "      <td>27.0</td>\n",
       "      <td>0</td>\n",
       "      <td>0</td>\n",
       "      <td>211536</td>\n",
       "      <td>13.0000</td>\n",
       "      <td>NaN</td>\n",
       "      <td>S</td>\n",
       "    </tr>\n",
       "    <tr>\n",
       "      <th>887</th>\n",
       "      <td>888</td>\n",
       "      <td>1</td>\n",
       "      <td>1</td>\n",
       "      <td>Graham, Miss. Margaret Edith</td>\n",
       "      <td>female</td>\n",
       "      <td>19.0</td>\n",
       "      <td>0</td>\n",
       "      <td>0</td>\n",
       "      <td>112053</td>\n",
       "      <td>30.0000</td>\n",
       "      <td>B42</td>\n",
       "      <td>S</td>\n",
       "    </tr>\n",
       "    <tr>\n",
       "      <th>888</th>\n",
       "      <td>889</td>\n",
       "      <td>0</td>\n",
       "      <td>3</td>\n",
       "      <td>Johnston, Miss. Catherine Helen \"Carrie\"</td>\n",
       "      <td>female</td>\n",
       "      <td>NaN</td>\n",
       "      <td>1</td>\n",
       "      <td>2</td>\n",
       "      <td>W./C. 6607</td>\n",
       "      <td>23.4500</td>\n",
       "      <td>NaN</td>\n",
       "      <td>S</td>\n",
       "    </tr>\n",
       "    <tr>\n",
       "      <th>889</th>\n",
       "      <td>890</td>\n",
       "      <td>1</td>\n",
       "      <td>1</td>\n",
       "      <td>Behr, Mr. Karl Howell</td>\n",
       "      <td>male</td>\n",
       "      <td>26.0</td>\n",
       "      <td>0</td>\n",
       "      <td>0</td>\n",
       "      <td>111369</td>\n",
       "      <td>30.0000</td>\n",
       "      <td>C148</td>\n",
       "      <td>C</td>\n",
       "    </tr>\n",
       "    <tr>\n",
       "      <th>890</th>\n",
       "      <td>891</td>\n",
       "      <td>0</td>\n",
       "      <td>3</td>\n",
       "      <td>Dooley, Mr. Patrick</td>\n",
       "      <td>male</td>\n",
       "      <td>32.0</td>\n",
       "      <td>0</td>\n",
       "      <td>0</td>\n",
       "      <td>370376</td>\n",
       "      <td>7.7500</td>\n",
       "      <td>NaN</td>\n",
       "      <td>Q</td>\n",
       "    </tr>\n",
       "  </tbody>\n",
       "</table>\n",
       "<p>891 rows × 12 columns</p>\n",
       "</div>"
      ],
      "text/plain": [
       "     PassengerId  Survived  Pclass  \\\n",
       "0              1         0       3   \n",
       "1              2         1       1   \n",
       "2              3         1       3   \n",
       "3              4         1       1   \n",
       "4              5         0       3   \n",
       "..           ...       ...     ...   \n",
       "886          887         0       2   \n",
       "887          888         1       1   \n",
       "888          889         0       3   \n",
       "889          890         1       1   \n",
       "890          891         0       3   \n",
       "\n",
       "                                                  Name     Sex   Age  SibSp  \\\n",
       "0                              Braund, Mr. Owen Harris    male  22.0      1   \n",
       "1    Cumings, Mrs. John Bradley (Florence Briggs Th...  female  38.0      1   \n",
       "2                               Heikkinen, Miss. Laina  female  26.0      0   \n",
       "3         Futrelle, Mrs. Jacques Heath (Lily May Peel)  female  35.0      1   \n",
       "4                             Allen, Mr. William Henry    male  35.0      0   \n",
       "..                                                 ...     ...   ...    ...   \n",
       "886                              Montvila, Rev. Juozas    male  27.0      0   \n",
       "887                       Graham, Miss. Margaret Edith  female  19.0      0   \n",
       "888           Johnston, Miss. Catherine Helen \"Carrie\"  female   NaN      1   \n",
       "889                              Behr, Mr. Karl Howell    male  26.0      0   \n",
       "890                                Dooley, Mr. Patrick    male  32.0      0   \n",
       "\n",
       "     Parch            Ticket     Fare Cabin Embarked  \n",
       "0        0         A/5 21171   7.2500   NaN        S  \n",
       "1        0          PC 17599  71.2833   C85        C  \n",
       "2        0  STON/O2. 3101282   7.9250   NaN        S  \n",
       "3        0            113803  53.1000  C123        S  \n",
       "4        0            373450   8.0500   NaN        S  \n",
       "..     ...               ...      ...   ...      ...  \n",
       "886      0            211536  13.0000   NaN        S  \n",
       "887      0            112053  30.0000   B42        S  \n",
       "888      2        W./C. 6607  23.4500   NaN        S  \n",
       "889      0            111369  30.0000  C148        C  \n",
       "890      0            370376   7.7500   NaN        Q  \n",
       "\n",
       "[891 rows x 12 columns]"
      ]
     },
     "execution_count": 3,
     "metadata": {},
     "output_type": "execute_result"
    }
   ],
   "source": [
    "titanic"
   ]
  },
  {
   "cell_type": "code",
   "execution_count": 4,
   "metadata": {},
   "outputs": [
    {
     "data": {
      "text/html": [
       "<div>\n",
       "<style scoped>\n",
       "    .dataframe tbody tr th:only-of-type {\n",
       "        vertical-align: middle;\n",
       "    }\n",
       "\n",
       "    .dataframe tbody tr th {\n",
       "        vertical-align: top;\n",
       "    }\n",
       "\n",
       "    .dataframe thead th {\n",
       "        text-align: right;\n",
       "    }\n",
       "</style>\n",
       "<table border=\"1\" class=\"dataframe\">\n",
       "  <thead>\n",
       "    <tr style=\"text-align: right;\">\n",
       "      <th></th>\n",
       "      <th>PassengerId</th>\n",
       "      <th>Survived</th>\n",
       "      <th>Pclass</th>\n",
       "      <th>Name</th>\n",
       "      <th>Sex</th>\n",
       "      <th>Age</th>\n",
       "      <th>SibSp</th>\n",
       "      <th>Parch</th>\n",
       "      <th>Ticket</th>\n",
       "      <th>Fare</th>\n",
       "      <th>Cabin</th>\n",
       "      <th>Embarked</th>\n",
       "    </tr>\n",
       "  </thead>\n",
       "  <tbody>\n",
       "    <tr>\n",
       "      <th>0</th>\n",
       "      <td>1</td>\n",
       "      <td>0</td>\n",
       "      <td>3</td>\n",
       "      <td>Braund, Mr. Owen Harris</td>\n",
       "      <td>male</td>\n",
       "      <td>22.0</td>\n",
       "      <td>1</td>\n",
       "      <td>0</td>\n",
       "      <td>A/5 21171</td>\n",
       "      <td>7.2500</td>\n",
       "      <td>NaN</td>\n",
       "      <td>S</td>\n",
       "    </tr>\n",
       "    <tr>\n",
       "      <th>1</th>\n",
       "      <td>2</td>\n",
       "      <td>1</td>\n",
       "      <td>1</td>\n",
       "      <td>Cumings, Mrs. John Bradley (Florence Briggs Th...</td>\n",
       "      <td>female</td>\n",
       "      <td>38.0</td>\n",
       "      <td>1</td>\n",
       "      <td>0</td>\n",
       "      <td>PC 17599</td>\n",
       "      <td>71.2833</td>\n",
       "      <td>C85</td>\n",
       "      <td>C</td>\n",
       "    </tr>\n",
       "    <tr>\n",
       "      <th>2</th>\n",
       "      <td>3</td>\n",
       "      <td>1</td>\n",
       "      <td>3</td>\n",
       "      <td>Heikkinen, Miss. Laina</td>\n",
       "      <td>female</td>\n",
       "      <td>26.0</td>\n",
       "      <td>0</td>\n",
       "      <td>0</td>\n",
       "      <td>STON/O2. 3101282</td>\n",
       "      <td>7.9250</td>\n",
       "      <td>NaN</td>\n",
       "      <td>S</td>\n",
       "    </tr>\n",
       "    <tr>\n",
       "      <th>3</th>\n",
       "      <td>4</td>\n",
       "      <td>1</td>\n",
       "      <td>1</td>\n",
       "      <td>Futrelle, Mrs. Jacques Heath (Lily May Peel)</td>\n",
       "      <td>female</td>\n",
       "      <td>35.0</td>\n",
       "      <td>1</td>\n",
       "      <td>0</td>\n",
       "      <td>113803</td>\n",
       "      <td>53.1000</td>\n",
       "      <td>C123</td>\n",
       "      <td>S</td>\n",
       "    </tr>\n",
       "    <tr>\n",
       "      <th>4</th>\n",
       "      <td>5</td>\n",
       "      <td>0</td>\n",
       "      <td>3</td>\n",
       "      <td>Allen, Mr. William Henry</td>\n",
       "      <td>male</td>\n",
       "      <td>35.0</td>\n",
       "      <td>0</td>\n",
       "      <td>0</td>\n",
       "      <td>373450</td>\n",
       "      <td>8.0500</td>\n",
       "      <td>NaN</td>\n",
       "      <td>S</td>\n",
       "    </tr>\n",
       "  </tbody>\n",
       "</table>\n",
       "</div>"
      ],
      "text/plain": [
       "   PassengerId  Survived  Pclass  \\\n",
       "0            1         0       3   \n",
       "1            2         1       1   \n",
       "2            3         1       3   \n",
       "3            4         1       1   \n",
       "4            5         0       3   \n",
       "\n",
       "                                                Name     Sex   Age  SibSp  \\\n",
       "0                            Braund, Mr. Owen Harris    male  22.0      1   \n",
       "1  Cumings, Mrs. John Bradley (Florence Briggs Th...  female  38.0      1   \n",
       "2                             Heikkinen, Miss. Laina  female  26.0      0   \n",
       "3       Futrelle, Mrs. Jacques Heath (Lily May Peel)  female  35.0      1   \n",
       "4                           Allen, Mr. William Henry    male  35.0      0   \n",
       "\n",
       "   Parch            Ticket     Fare Cabin Embarked  \n",
       "0      0         A/5 21171   7.2500   NaN        S  \n",
       "1      0          PC 17599  71.2833   C85        C  \n",
       "2      0  STON/O2. 3101282   7.9250   NaN        S  \n",
       "3      0            113803  53.1000  C123        S  \n",
       "4      0            373450   8.0500   NaN        S  "
      ]
     },
     "execution_count": 4,
     "metadata": {},
     "output_type": "execute_result"
    }
   ],
   "source": [
    "titanic.head()"
   ]
  },
  {
   "cell_type": "markdown",
   "metadata": {},
   "source": [
    "# EXPLORATORY DATA ANALYSIS"
   ]
  },
  {
   "cell_type": "code",
   "execution_count": 5,
   "metadata": {},
   "outputs": [
    {
     "name": "stdout",
     "output_type": "stream",
     "text": [
      "<class 'pandas.core.frame.DataFrame'>\n",
      "RangeIndex: 891 entries, 0 to 890\n",
      "Data columns (total 12 columns):\n",
      " #   Column       Non-Null Count  Dtype  \n",
      "---  ------       --------------  -----  \n",
      " 0   PassengerId  891 non-null    int64  \n",
      " 1   Survived     891 non-null    int64  \n",
      " 2   Pclass       891 non-null    int64  \n",
      " 3   Name         891 non-null    object \n",
      " 4   Sex          891 non-null    object \n",
      " 5   Age          714 non-null    float64\n",
      " 6   SibSp        891 non-null    int64  \n",
      " 7   Parch        891 non-null    int64  \n",
      " 8   Ticket       891 non-null    object \n",
      " 9   Fare         891 non-null    float64\n",
      " 10  Cabin        204 non-null    object \n",
      " 11  Embarked     889 non-null    object \n",
      "dtypes: float64(2), int64(5), object(5)\n",
      "memory usage: 83.7+ KB\n"
     ]
    }
   ],
   "source": [
    "titanic.info()"
   ]
  },
  {
   "cell_type": "code",
   "execution_count": 6,
   "metadata": {},
   "outputs": [
    {
     "data": {
      "text/plain": [
       "PassengerId      0\n",
       "Survived         0\n",
       "Pclass           0\n",
       "Name             0\n",
       "Sex              0\n",
       "Age            177\n",
       "SibSp            0\n",
       "Parch            0\n",
       "Ticket           0\n",
       "Fare             0\n",
       "Cabin          687\n",
       "Embarked         2\n",
       "dtype: int64"
      ]
     },
     "execution_count": 6,
     "metadata": {},
     "output_type": "execute_result"
    }
   ],
   "source": [
    "titanic.isnull().sum()"
   ]
  },
  {
   "cell_type": "code",
   "execution_count": 7,
   "metadata": {},
   "outputs": [
    {
     "data": {
      "text/plain": [
       "<matplotlib.axes._subplots.AxesSubplot at 0x184e6877580>"
      ]
     },
     "execution_count": 7,
     "metadata": {},
     "output_type": "execute_result"
    },
    {
     "data": {
      "image/png": "[encoded data removed]",
      "text/plain": [
       "<Figure size 432x288 with 2 Axes>"
      ]
     },
     "metadata": {
      "needs_background": "light"
     },
     "output_type": "display_data"
    }
   ],
   "source": [
    "sns.heatmap(titanic.isnull())"
   ]
  },
  {
   "cell_type": "markdown",
   "metadata": {},
   "source": [
    "From above analysis we can say that age, cabin and embarked has null values."
   ]
  },
  {
   "cell_type": "code",
   "execution_count": 8,
   "metadata": {},
   "outputs": [
    {
     "data": {
      "text/plain": [
       "<matplotlib.axes._subplots.AxesSubplot at 0x184e6810ca0>"
      ]
     },
     "execution_count": 8,
     "metadata": {},
     "output_type": "execute_result"
    },
    {
     "data": {
      "image/png": "[encoded data removed]",
      "text/plain": [
       "<Figure size 432x288 with 1 Axes>"
      ]
     },
     "metadata": {
      "needs_background": "light"
     },
     "output_type": "display_data"
    }
   ],
   "source": [
    "sns.countplot(x='Survived',data=titanic)"
   ]
  },
  {
   "cell_type": "code",
   "execution_count": 9,
   "metadata": {},
   "outputs": [
    {
     "data": {
      "text/plain": [
       "<matplotlib.axes._subplots.AxesSubplot at 0x184e70dcb80>"
      ]
     },
     "execution_count": 9,
     "metadata": {},
     "output_type": "execute_result"
    },
    {
     "data": {
      "image/png": "[encoded data removed]",
      "text/plain": [
       "<Figure size 432x288 with 1 Axes>"
      ]
     },
     "metadata": {
      "needs_background": "light"
     },
     "output_type": "display_data"
    }
   ],
   "source": [
    "sns.countplot(x='Survived',hue='Sex',data=titanic,palette='RdBu_r')"
   ]
  },
  {
   "cell_type": "markdown",
   "metadata": {},
   "source": [
    "Through the above plot we can see that the survival rate of female is more than male."
   ]
  },
  {
   "cell_type": "code",
   "execution_count": 10,
   "metadata": {},
   "outputs": [
    {
     "data": {
      "text/plain": [
       "<matplotlib.axes._subplots.AxesSubplot at 0x184e71369d0>"
      ]
     },
     "execution_count": 10,
     "metadata": {},
     "output_type": "execute_result"
    },
    {
     "data": {
      "image/png": "[encoded data removed]",
      "text/plain": [
       "<Figure size 432x288 with 1 Axes>"
      ]
     },
     "metadata": {
      "needs_background": "light"
     },
     "output_type": "display_data"
    }
   ],
   "source": [
    "sns.countplot(x='Survived',hue='Pclass',data=titanic)"
   ]
  },
  {
   "cell_type": "markdown",
   "metadata": {},
   "source": [
    "From above, first class has lower death rate than the other two classes."
   ]
  },
  {
   "cell_type": "code",
   "execution_count": 11,
   "metadata": {},
   "outputs": [
    {
     "data": {
      "text/plain": [
       "<matplotlib.axes._subplots.AxesSubplot at 0x184e71e52e0>"
      ]
     },
     "execution_count": 11,
     "metadata": {},
     "output_type": "execute_result"
    },
    {
     "data": {
      "image/png": "[encoded data removed]",
      "text/plain": [
       "<Figure size 432x288 with 1 Axes>"
      ]
     },
     "metadata": {
      "needs_background": "light"
     },
     "output_type": "display_data"
    }
   ],
   "source": [
    "titanic['Age'].plot.hist(bins=40)"
   ]
  },
  {
   "cell_type": "markdown",
   "metadata": {},
   "source": [
    "We can observe from the above plot that average people fall in the age group of 20 to 40."
   ]
  },
  {
   "cell_type": "code",
   "execution_count": 12,
   "metadata": {},
   "outputs": [
    {
     "data": {
      "text/plain": [
       "<matplotlib.axes._subplots.AxesSubplot at 0x184e72a3b20>"
      ]
     },
     "execution_count": 12,
     "metadata": {},
     "output_type": "execute_result"
    },
    {
     "data": {
      "image/png": "[encoded data removed]",
      "text/plain": [
       "<Figure size 432x288 with 1 Axes>"
      ]
     },
     "metadata": {
      "needs_background": "light"
     },
     "output_type": "display_data"
    }
   ],
   "source": [
    "sns.countplot(x='SibSp',data=titanic)"
   ]
  },
  {
   "cell_type": "code",
   "execution_count": 13,
   "metadata": {},
   "outputs": [
    {
     "data": {
      "text/plain": [
       "<matplotlib.axes._subplots.AxesSubplot at 0x184e7314220>"
      ]
     },
     "execution_count": 13,
     "metadata": {},
     "output_type": "execute_result"
    },
    {
     "data": {
      "image/png": "[encoded data removed]",
      "text/plain": [
       "<Figure size 432x288 with 1 Axes>"
      ]
     },
     "metadata": {
      "needs_background": "light"
     },
     "output_type": "display_data"
    }
   ],
   "source": [
    "titanic['Fare'].plot.hist(bins=40)"
   ]
  },
  {
   "cell_type": "code",
   "execution_count": 14,
   "metadata": {},
   "outputs": [
    {
     "data": {
      "text/plain": [
       "<matplotlib.axes._subplots.AxesSubplot at 0x184e73d8d30>"
      ]
     },
     "execution_count": 14,
     "metadata": {},
     "output_type": "execute_result"
    },
    {
     "data": {
      "image/png": "[encoded data removed]",
      "text/plain": [
       "<Figure size 432x288 with 1 Axes>"
      ]
     },
     "metadata": {
      "needs_background": "light"
     },
     "output_type": "display_data"
    }
   ],
   "source": [
    "titanic['Parch'].plot.hist()"
   ]
  },
  {
   "cell_type": "code",
   "execution_count": 15,
   "metadata": {},
   "outputs": [
    {
     "data": {
      "text/plain": [
       "<matplotlib.axes._subplots.AxesSubplot at 0x184e7440970>"
      ]
     },
     "execution_count": 15,
     "metadata": {},
     "output_type": "execute_result"
    },
    {
     "data": {
      "image/png": "[encoded data removed]",
      "text/plain": [
       "<Figure size 432x288 with 1 Axes>"
      ]
     },
     "metadata": {
      "needs_background": "light"
     },
     "output_type": "display_data"
    }
   ],
   "source": [
    "sns.boxplot(titanic['Age'],orient='ver')"
   ]
  },
  {
   "cell_type": "code",
   "execution_count": 16,
   "metadata": {},
   "outputs": [
    {
     "data": {
      "text/plain": [
       "29.69911764705882"
      ]
     },
     "execution_count": 16,
     "metadata": {},
     "output_type": "execute_result"
    }
   ],
   "source": [
    "titanic['Age'].mean()"
   ]
  },
  {
   "cell_type": "code",
   "execution_count": 17,
   "metadata": {},
   "outputs": [
    {
     "data": {
      "text/plain": [
       "28.0"
      ]
     },
     "execution_count": 17,
     "metadata": {},
     "output_type": "execute_result"
    }
   ],
   "source": [
    "titanic['Age'].median()"
   ]
  },
  {
   "cell_type": "code",
   "execution_count": 18,
   "metadata": {},
   "outputs": [
    {
     "data": {
      "text/plain": [
       "PassengerId      0\n",
       "Survived         0\n",
       "Pclass           0\n",
       "Name             0\n",
       "Sex              0\n",
       "Age            177\n",
       "SibSp            0\n",
       "Parch            0\n",
       "Ticket           0\n",
       "Fare             0\n",
       "Cabin          687\n",
       "Embarked         2\n",
       "dtype: int64"
      ]
     },
     "execution_count": 18,
     "metadata": {},
     "output_type": "execute_result"
    }
   ],
   "source": [
    "titanic.isnull().sum()"
   ]
  },
  {
   "cell_type": "code",
   "execution_count": 19,
   "metadata": {},
   "outputs": [
    {
     "data": {
      "text/plain": [
       "<matplotlib.axes._subplots.AxesSubplot at 0x184e74a36a0>"
      ]
     },
     "execution_count": 19,
     "metadata": {},
     "output_type": "execute_result"
    },
    {
     "data": {
      "image/png": "[encoded data removed]",
      "text/plain": [
       "<Figure size 432x288 with 2 Axes>"
      ]
     },
     "metadata": {
      "needs_background": "light"
     },
     "output_type": "display_data"
    }
   ],
   "source": [
    "sns.heatmap(titanic.isnull())"
   ]
  },
  {
   "cell_type": "markdown",
   "metadata": {},
   "source": [
    "we have mssing data in three of the columns"
   ]
  },
  {
   "cell_type": "code",
   "execution_count": 20,
   "metadata": {},
   "outputs": [],
   "source": [
    "#cabin column is not going to help in analysing the data so we can drop it.\n",
    "titanic.drop(['Cabin'],axis=1,inplace=True)"
   ]
  },
  {
   "cell_type": "code",
   "execution_count": 21,
   "metadata": {},
   "outputs": [
    {
     "data": {
      "text/html": [
       "<div>\n",
       "<style scoped>\n",
       "    .dataframe tbody tr th:only-of-type {\n",
       "        vertical-align: middle;\n",
       "    }\n",
       "\n",
       "    .dataframe tbody tr th {\n",
       "        vertical-align: top;\n",
       "    }\n",
       "\n",
       "    .dataframe thead th {\n",
       "        text-align: right;\n",
       "    }\n",
       "</style>\n",
       "<table border=\"1\" class=\"dataframe\">\n",
       "  <thead>\n",
       "    <tr style=\"text-align: right;\">\n",
       "      <th></th>\n",
       "      <th>PassengerId</th>\n",
       "      <th>Survived</th>\n",
       "      <th>Pclass</th>\n",
       "      <th>Name</th>\n",
       "      <th>Sex</th>\n",
       "      <th>Age</th>\n",
       "      <th>SibSp</th>\n",
       "      <th>Parch</th>\n",
       "      <th>Ticket</th>\n",
       "      <th>Fare</th>\n",
       "      <th>Embarked</th>\n",
       "    </tr>\n",
       "  </thead>\n",
       "  <tbody>\n",
       "    <tr>\n",
       "      <th>0</th>\n",
       "      <td>1</td>\n",
       "      <td>0</td>\n",
       "      <td>3</td>\n",
       "      <td>Braund, Mr. Owen Harris</td>\n",
       "      <td>male</td>\n",
       "      <td>22.0</td>\n",
       "      <td>1</td>\n",
       "      <td>0</td>\n",
       "      <td>A/5 21171</td>\n",
       "      <td>7.2500</td>\n",
       "      <td>S</td>\n",
       "    </tr>\n",
       "    <tr>\n",
       "      <th>1</th>\n",
       "      <td>2</td>\n",
       "      <td>1</td>\n",
       "      <td>1</td>\n",
       "      <td>Cumings, Mrs. John Bradley (Florence Briggs Th...</td>\n",
       "      <td>female</td>\n",
       "      <td>38.0</td>\n",
       "      <td>1</td>\n",
       "      <td>0</td>\n",
       "      <td>PC 17599</td>\n",
       "      <td>71.2833</td>\n",
       "      <td>C</td>\n",
       "    </tr>\n",
       "    <tr>\n",
       "      <th>2</th>\n",
       "      <td>3</td>\n",
       "      <td>1</td>\n",
       "      <td>3</td>\n",
       "      <td>Heikkinen, Miss. Laina</td>\n",
       "      <td>female</td>\n",
       "      <td>26.0</td>\n",
       "      <td>0</td>\n",
       "      <td>0</td>\n",
       "      <td>STON/O2. 3101282</td>\n",
       "      <td>7.9250</td>\n",
       "      <td>S</td>\n",
       "    </tr>\n",
       "    <tr>\n",
       "      <th>3</th>\n",
       "      <td>4</td>\n",
       "      <td>1</td>\n",
       "      <td>1</td>\n",
       "      <td>Futrelle, Mrs. Jacques Heath (Lily May Peel)</td>\n",
       "      <td>female</td>\n",
       "      <td>35.0</td>\n",
       "      <td>1</td>\n",
       "      <td>0</td>\n",
       "      <td>113803</td>\n",
       "      <td>53.1000</td>\n",
       "      <td>S</td>\n",
       "    </tr>\n",
       "    <tr>\n",
       "      <th>4</th>\n",
       "      <td>5</td>\n",
       "      <td>0</td>\n",
       "      <td>3</td>\n",
       "      <td>Allen, Mr. William Henry</td>\n",
       "      <td>male</td>\n",
       "      <td>35.0</td>\n",
       "      <td>0</td>\n",
       "      <td>0</td>\n",
       "      <td>373450</td>\n",
       "      <td>8.0500</td>\n",
       "      <td>S</td>\n",
       "    </tr>\n",
       "    <tr>\n",
       "      <th>...</th>\n",
       "      <td>...</td>\n",
       "      <td>...</td>\n",
       "      <td>...</td>\n",
       "      <td>...</td>\n",
       "      <td>...</td>\n",
       "      <td>...</td>\n",
       "      <td>...</td>\n",
       "      <td>...</td>\n",
       "      <td>...</td>\n",
       "      <td>...</td>\n",
       "      <td>...</td>\n",
       "    </tr>\n",
       "    <tr>\n",
       "      <th>886</th>\n",
       "      <td>887</td>\n",
       "      <td>0</td>\n",
       "      <td>2</td>\n",
       "      <td>Montvila, Rev. Juozas</td>\n",
       "      <td>male</td>\n",
       "      <td>27.0</td>\n",
       "      <td>0</td>\n",
       "      <td>0</td>\n",
       "      <td>211536</td>\n",
       "      <td>13.0000</td>\n",
       "      <td>S</td>\n",
       "    </tr>\n",
       "    <tr>\n",
       "      <th>887</th>\n",
       "      <td>888</td>\n",
       "      <td>1</td>\n",
       "      <td>1</td>\n",
       "      <td>Graham, Miss. Margaret Edith</td>\n",
       "      <td>female</td>\n",
       "      <td>19.0</td>\n",
       "      <td>0</td>\n",
       "      <td>0</td>\n",
       "      <td>112053</td>\n",
       "      <td>30.0000</td>\n",
       "      <td>S</td>\n",
       "    </tr>\n",
       "    <tr>\n",
       "      <th>888</th>\n",
       "      <td>889</td>\n",
       "      <td>0</td>\n",
       "      <td>3</td>\n",
       "      <td>Johnston, Miss. Catherine Helen \"Carrie\"</td>\n",
       "      <td>female</td>\n",
       "      <td>NaN</td>\n",
       "      <td>1</td>\n",
       "      <td>2</td>\n",
       "      <td>W./C. 6607</td>\n",
       "      <td>23.4500</td>\n",
       "      <td>S</td>\n",
       "    </tr>\n",
       "    <tr>\n",
       "      <th>889</th>\n",
       "      <td>890</td>\n",
       "      <td>1</td>\n",
       "      <td>1</td>\n",
       "      <td>Behr, Mr. Karl Howell</td>\n",
       "      <td>male</td>\n",
       "      <td>26.0</td>\n",
       "      <td>0</td>\n",
       "      <td>0</td>\n",
       "      <td>111369</td>\n",
       "      <td>30.0000</td>\n",
       "      <td>C</td>\n",
       "    </tr>\n",
       "    <tr>\n",
       "      <th>890</th>\n",
       "      <td>891</td>\n",
       "      <td>0</td>\n",
       "      <td>3</td>\n",
       "      <td>Dooley, Mr. Patrick</td>\n",
       "      <td>male</td>\n",
       "      <td>32.0</td>\n",
       "      <td>0</td>\n",
       "      <td>0</td>\n",
       "      <td>370376</td>\n",
       "      <td>7.7500</td>\n",
       "      <td>Q</td>\n",
       "    </tr>\n",
       "  </tbody>\n",
       "</table>\n",
       "<p>891 rows × 11 columns</p>\n",
       "</div>"
      ],
      "text/plain": [
       "     PassengerId  Survived  Pclass  \\\n",
       "0              1         0       3   \n",
       "1              2         1       1   \n",
       "2              3         1       3   \n",
       "3              4         1       1   \n",
       "4              5         0       3   \n",
       "..           ...       ...     ...   \n",
       "886          887         0       2   \n",
       "887          888         1       1   \n",
       "888          889         0       3   \n",
       "889          890         1       1   \n",
       "890          891         0       3   \n",
       "\n",
       "                                                  Name     Sex   Age  SibSp  \\\n",
       "0                              Braund, Mr. Owen Harris    male  22.0      1   \n",
       "1    Cumings, Mrs. John Bradley (Florence Briggs Th...  female  38.0      1   \n",
       "2                               Heikkinen, Miss. Laina  female  26.0      0   \n",
       "3         Futrelle, Mrs. Jacques Heath (Lily May Peel)  female  35.0      1   \n",
       "4                             Allen, Mr. William Henry    male  35.0      0   \n",
       "..                                                 ...     ...   ...    ...   \n",
       "886                              Montvila, Rev. Juozas    male  27.0      0   \n",
       "887                       Graham, Miss. Margaret Edith  female  19.0      0   \n",
       "888           Johnston, Miss. Catherine Helen \"Carrie\"  female   NaN      1   \n",
       "889                              Behr, Mr. Karl Howell    male  26.0      0   \n",
       "890                                Dooley, Mr. Patrick    male  32.0      0   \n",
       "\n",
       "     Parch            Ticket     Fare Embarked  \n",
       "0        0         A/5 21171   7.2500        S  \n",
       "1        0          PC 17599  71.2833        C  \n",
       "2        0  STON/O2. 3101282   7.9250        S  \n",
       "3        0            113803  53.1000        S  \n",
       "4        0            373450   8.0500        S  \n",
       "..     ...               ...      ...      ...  \n",
       "886      0            211536  13.0000        S  \n",
       "887      0            112053  30.0000        S  \n",
       "888      2        W./C. 6607  23.4500        S  \n",
       "889      0            111369  30.0000        C  \n",
       "890      0            370376   7.7500        Q  \n",
       "\n",
       "[891 rows x 11 columns]"
      ]
     },
     "execution_count": 21,
     "metadata": {},
     "output_type": "execute_result"
    }
   ],
   "source": [
    "titanic"
   ]
  },
  {
   "cell_type": "code",
   "execution_count": 22,
   "metadata": {},
   "outputs": [],
   "source": [
    "from sklearn.impute import SimpleImputer\n",
    "si=SimpleImputer(strategy='median')\n",
    "titanic['Age']=si.fit_transform(titanic['Age'].values.reshape(-1,1))"
   ]
  },
  {
   "cell_type": "code",
   "execution_count": 23,
   "metadata": {},
   "outputs": [
    {
     "data": {
      "text/plain": [
       "PassengerId    0\n",
       "Survived       0\n",
       "Pclass         0\n",
       "Name           0\n",
       "Sex            0\n",
       "Age            0\n",
       "SibSp          0\n",
       "Parch          0\n",
       "Ticket         0\n",
       "Fare           0\n",
       "Embarked       2\n",
       "dtype: int64"
      ]
     },
     "execution_count": 23,
     "metadata": {},
     "output_type": "execute_result"
    }
   ],
   "source": [
    "titanic.isnull().sum()"
   ]
  },
  {
   "cell_type": "code",
   "execution_count": 24,
   "metadata": {},
   "outputs": [],
   "source": [
    "titanic.dropna(inplace=True)"
   ]
  },
  {
   "cell_type": "code",
   "execution_count": 25,
   "metadata": {},
   "outputs": [
    {
     "data": {
      "text/plain": [
       "<matplotlib.axes._subplots.AxesSubplot at 0x184e74a8040>"
      ]
     },
     "execution_count": 25,
     "metadata": {},
     "output_type": "execute_result"
    },
    {
     "data": {
      "image/png": "[encoded data removed]",
      "text/plain": [
       "<Figure size 432x288 with 2 Axes>"
      ]
     },
     "metadata": {
      "needs_background": "light"
     },
     "output_type": "display_data"
    }
   ],
   "source": [
    "sns.heatmap(titanic.isnull())"
   ]
  },
  {
   "cell_type": "code",
   "execution_count": 26,
   "metadata": {},
   "outputs": [
    {
     "data": {
      "text/plain": [
       "PassengerId    0\n",
       "Survived       0\n",
       "Pclass         0\n",
       "Name           0\n",
       "Sex            0\n",
       "Age            0\n",
       "SibSp          0\n",
       "Parch          0\n",
       "Ticket         0\n",
       "Fare           0\n",
       "Embarked       0\n",
       "dtype: int64"
      ]
     },
     "execution_count": 26,
     "metadata": {},
     "output_type": "execute_result"
    }
   ],
   "source": [
    "titanic.isnull().sum()"
   ]
  },
  {
   "cell_type": "code",
   "execution_count": 27,
   "metadata": {},
   "outputs": [],
   "source": [
    "from sklearn.preprocessing import LabelEncoder\n",
    "le=LabelEncoder()\n",
    "list=['Sex','Embarked']\n",
    "for i in list:\n",
    "    titanic[i]=le.fit_transform(titanic[i].astype(str))"
   ]
  },
  {
   "cell_type": "code",
   "execution_count": 28,
   "metadata": {},
   "outputs": [
    {
     "data": {
      "text/plain": [
       "0      1\n",
       "1      0\n",
       "2      0\n",
       "3      0\n",
       "4      1\n",
       "      ..\n",
       "886    1\n",
       "887    0\n",
       "888    0\n",
       "889    1\n",
       "890    1\n",
       "Name: Sex, Length: 889, dtype: int32"
      ]
     },
     "execution_count": 28,
     "metadata": {},
     "output_type": "execute_result"
    }
   ],
   "source": [
    "titanic['Sex']"
   ]
  },
  {
   "cell_type": "code",
   "execution_count": 29,
   "metadata": {},
   "outputs": [
    {
     "data": {
      "text/plain": [
       "0      2\n",
       "1      0\n",
       "2      2\n",
       "3      2\n",
       "4      2\n",
       "      ..\n",
       "886    2\n",
       "887    2\n",
       "888    2\n",
       "889    0\n",
       "890    1\n",
       "Name: Embarked, Length: 889, dtype: int32"
      ]
     },
     "execution_count": 29,
     "metadata": {},
     "output_type": "execute_result"
    }
   ],
   "source": [
    "titanic['Embarked']"
   ]
  },
  {
   "cell_type": "code",
   "execution_count": 30,
   "metadata": {},
   "outputs": [],
   "source": [
    "titanic['Pclass']=le.fit_transform(titanic['Pclass'].astype('int'))"
   ]
  },
  {
   "cell_type": "code",
   "execution_count": 31,
   "metadata": {},
   "outputs": [
    {
     "data": {
      "text/plain": [
       "0      2\n",
       "1      0\n",
       "2      2\n",
       "3      0\n",
       "4      2\n",
       "      ..\n",
       "886    1\n",
       "887    0\n",
       "888    2\n",
       "889    0\n",
       "890    2\n",
       "Name: Pclass, Length: 889, dtype: int64"
      ]
     },
     "execution_count": 31,
     "metadata": {},
     "output_type": "execute_result"
    }
   ],
   "source": [
    "titanic['Pclass']"
   ]
  },
  {
   "cell_type": "code",
   "execution_count": 32,
   "metadata": {},
   "outputs": [],
   "source": [
    "titanic.drop(['Name','PassengerId','Ticket','Fare'],axis=1,inplace=True)"
   ]
  },
  {
   "cell_type": "code",
   "execution_count": 33,
   "metadata": {},
   "outputs": [
    {
     "data": {
      "text/html": [
       "<div>\n",
       "<style scoped>\n",
       "    .dataframe tbody tr th:only-of-type {\n",
       "        vertical-align: middle;\n",
       "    }\n",
       "\n",
       "    .dataframe tbody tr th {\n",
       "        vertical-align: top;\n",
       "    }\n",
       "\n",
       "    .dataframe thead th {\n",
       "        text-align: right;\n",
       "    }\n",
       "</style>\n",
       "<table border=\"1\" class=\"dataframe\">\n",
       "  <thead>\n",
       "    <tr style=\"text-align: right;\">\n",
       "      <th></th>\n",
       "      <th>Survived</th>\n",
       "      <th>Pclass</th>\n",
       "      <th>Sex</th>\n",
       "      <th>Age</th>\n",
       "      <th>SibSp</th>\n",
       "      <th>Parch</th>\n",
       "      <th>Embarked</th>\n",
       "    </tr>\n",
       "  </thead>\n",
       "  <tbody>\n",
       "    <tr>\n",
       "      <th>0</th>\n",
       "      <td>0</td>\n",
       "      <td>2</td>\n",
       "      <td>1</td>\n",
       "      <td>22.0</td>\n",
       "      <td>1</td>\n",
       "      <td>0</td>\n",
       "      <td>2</td>\n",
       "    </tr>\n",
       "    <tr>\n",
       "      <th>1</th>\n",
       "      <td>1</td>\n",
       "      <td>0</td>\n",
       "      <td>0</td>\n",
       "      <td>38.0</td>\n",
       "      <td>1</td>\n",
       "      <td>0</td>\n",
       "      <td>0</td>\n",
       "    </tr>\n",
       "    <tr>\n",
       "      <th>2</th>\n",
       "      <td>1</td>\n",
       "      <td>2</td>\n",
       "      <td>0</td>\n",
       "      <td>26.0</td>\n",
       "      <td>0</td>\n",
       "      <td>0</td>\n",
       "      <td>2</td>\n",
       "    </tr>\n",
       "    <tr>\n",
       "      <th>3</th>\n",
       "      <td>1</td>\n",
       "      <td>0</td>\n",
       "      <td>0</td>\n",
       "      <td>35.0</td>\n",
       "      <td>1</td>\n",
       "      <td>0</td>\n",
       "      <td>2</td>\n",
       "    </tr>\n",
       "    <tr>\n",
       "      <th>4</th>\n",
       "      <td>0</td>\n",
       "      <td>2</td>\n",
       "      <td>1</td>\n",
       "      <td>35.0</td>\n",
       "      <td>0</td>\n",
       "      <td>0</td>\n",
       "      <td>2</td>\n",
       "    </tr>\n",
       "    <tr>\n",
       "      <th>...</th>\n",
       "      <td>...</td>\n",
       "      <td>...</td>\n",
       "      <td>...</td>\n",
       "      <td>...</td>\n",
       "      <td>...</td>\n",
       "      <td>...</td>\n",
       "      <td>...</td>\n",
       "    </tr>\n",
       "    <tr>\n",
       "      <th>886</th>\n",
       "      <td>0</td>\n",
       "      <td>1</td>\n",
       "      <td>1</td>\n",
       "      <td>27.0</td>\n",
       "      <td>0</td>\n",
       "      <td>0</td>\n",
       "      <td>2</td>\n",
       "    </tr>\n",
       "    <tr>\n",
       "      <th>887</th>\n",
       "      <td>1</td>\n",
       "      <td>0</td>\n",
       "      <td>0</td>\n",
       "      <td>19.0</td>\n",
       "      <td>0</td>\n",
       "      <td>0</td>\n",
       "      <td>2</td>\n",
       "    </tr>\n",
       "    <tr>\n",
       "      <th>888</th>\n",
       "      <td>0</td>\n",
       "      <td>2</td>\n",
       "      <td>0</td>\n",
       "      <td>28.0</td>\n",
       "      <td>1</td>\n",
       "      <td>2</td>\n",
       "      <td>2</td>\n",
       "    </tr>\n",
       "    <tr>\n",
       "      <th>889</th>\n",
       "      <td>1</td>\n",
       "      <td>0</td>\n",
       "      <td>1</td>\n",
       "      <td>26.0</td>\n",
       "      <td>0</td>\n",
       "      <td>0</td>\n",
       "      <td>0</td>\n",
       "    </tr>\n",
       "    <tr>\n",
       "      <th>890</th>\n",
       "      <td>0</td>\n",
       "      <td>2</td>\n",
       "      <td>1</td>\n",
       "      <td>32.0</td>\n",
       "      <td>0</td>\n",
       "      <td>0</td>\n",
       "      <td>1</td>\n",
       "    </tr>\n",
       "  </tbody>\n",
       "</table>\n",
       "<p>889 rows × 7 columns</p>\n",
       "</div>"
      ],
      "text/plain": [
       "     Survived  Pclass  Sex   Age  SibSp  Parch  Embarked\n",
       "0           0       2    1  22.0      1      0         2\n",
       "1           1       0    0  38.0      1      0         0\n",
       "2           1       2    0  26.0      0      0         2\n",
       "3           1       0    0  35.0      1      0         2\n",
       "4           0       2    1  35.0      0      0         2\n",
       "..        ...     ...  ...   ...    ...    ...       ...\n",
       "886         0       1    1  27.0      0      0         2\n",
       "887         1       0    0  19.0      0      0         2\n",
       "888         0       2    0  28.0      1      2         2\n",
       "889         1       0    1  26.0      0      0         0\n",
       "890         0       2    1  32.0      0      0         1\n",
       "\n",
       "[889 rows x 7 columns]"
      ]
     },
     "execution_count": 33,
     "metadata": {},
     "output_type": "execute_result"
    }
   ],
   "source": [
    "titanic"
   ]
  },
  {
   "cell_type": "code",
   "execution_count": 34,
   "metadata": {},
   "outputs": [],
   "source": [
    "from sklearn.model_selection import train_test_split\n",
    "from sklearn.linear_model import LogisticRegression\n",
    "from sklearn.metrics import confusion_matrix, accuracy_score, classification_report"
   ]
  },
  {
   "cell_type": "code",
   "execution_count": 35,
   "metadata": {},
   "outputs": [
    {
     "data": {
      "text/html": [
       "<div>\n",
       "<style scoped>\n",
       "    .dataframe tbody tr th:only-of-type {\n",
       "        vertical-align: middle;\n",
       "    }\n",
       "\n",
       "    .dataframe tbody tr th {\n",
       "        vertical-align: top;\n",
       "    }\n",
       "\n",
       "    .dataframe thead th {\n",
       "        text-align: right;\n",
       "    }\n",
       "</style>\n",
       "<table border=\"1\" class=\"dataframe\">\n",
       "  <thead>\n",
       "    <tr style=\"text-align: right;\">\n",
       "      <th></th>\n",
       "      <th>Pclass</th>\n",
       "      <th>Sex</th>\n",
       "      <th>Age</th>\n",
       "      <th>SibSp</th>\n",
       "      <th>Parch</th>\n",
       "      <th>Embarked</th>\n",
       "    </tr>\n",
       "  </thead>\n",
       "  <tbody>\n",
       "    <tr>\n",
       "      <th>0</th>\n",
       "      <td>2</td>\n",
       "      <td>1</td>\n",
       "      <td>22.0</td>\n",
       "      <td>1</td>\n",
       "      <td>0</td>\n",
       "      <td>2</td>\n",
       "    </tr>\n",
       "    <tr>\n",
       "      <th>1</th>\n",
       "      <td>0</td>\n",
       "      <td>0</td>\n",
       "      <td>38.0</td>\n",
       "      <td>1</td>\n",
       "      <td>0</td>\n",
       "      <td>0</td>\n",
       "    </tr>\n",
       "    <tr>\n",
       "      <th>2</th>\n",
       "      <td>2</td>\n",
       "      <td>0</td>\n",
       "      <td>26.0</td>\n",
       "      <td>0</td>\n",
       "      <td>0</td>\n",
       "      <td>2</td>\n",
       "    </tr>\n",
       "    <tr>\n",
       "      <th>3</th>\n",
       "      <td>0</td>\n",
       "      <td>0</td>\n",
       "      <td>35.0</td>\n",
       "      <td>1</td>\n",
       "      <td>0</td>\n",
       "      <td>2</td>\n",
       "    </tr>\n",
       "    <tr>\n",
       "      <th>4</th>\n",
       "      <td>2</td>\n",
       "      <td>1</td>\n",
       "      <td>35.0</td>\n",
       "      <td>0</td>\n",
       "      <td>0</td>\n",
       "      <td>2</td>\n",
       "    </tr>\n",
       "    <tr>\n",
       "      <th>...</th>\n",
       "      <td>...</td>\n",
       "      <td>...</td>\n",
       "      <td>...</td>\n",
       "      <td>...</td>\n",
       "      <td>...</td>\n",
       "      <td>...</td>\n",
       "    </tr>\n",
       "    <tr>\n",
       "      <th>886</th>\n",
       "      <td>1</td>\n",
       "      <td>1</td>\n",
       "      <td>27.0</td>\n",
       "      <td>0</td>\n",
       "      <td>0</td>\n",
       "      <td>2</td>\n",
       "    </tr>\n",
       "    <tr>\n",
       "      <th>887</th>\n",
       "      <td>0</td>\n",
       "      <td>0</td>\n",
       "      <td>19.0</td>\n",
       "      <td>0</td>\n",
       "      <td>0</td>\n",
       "      <td>2</td>\n",
       "    </tr>\n",
       "    <tr>\n",
       "      <th>888</th>\n",
       "      <td>2</td>\n",
       "      <td>0</td>\n",
       "      <td>28.0</td>\n",
       "      <td>1</td>\n",
       "      <td>2</td>\n",
       "      <td>2</td>\n",
       "    </tr>\n",
       "    <tr>\n",
       "      <th>889</th>\n",
       "      <td>0</td>\n",
       "      <td>1</td>\n",
       "      <td>26.0</td>\n",
       "      <td>0</td>\n",
       "      <td>0</td>\n",
       "      <td>0</td>\n",
       "    </tr>\n",
       "    <tr>\n",
       "      <th>890</th>\n",
       "      <td>2</td>\n",
       "      <td>1</td>\n",
       "      <td>32.0</td>\n",
       "      <td>0</td>\n",
       "      <td>0</td>\n",
       "      <td>1</td>\n",
       "    </tr>\n",
       "  </tbody>\n",
       "</table>\n",
       "<p>889 rows × 6 columns</p>\n",
       "</div>"
      ],
      "text/plain": [
       "     Pclass  Sex   Age  SibSp  Parch  Embarked\n",
       "0         2    1  22.0      1      0         2\n",
       "1         0    0  38.0      1      0         0\n",
       "2         2    0  26.0      0      0         2\n",
       "3         0    0  35.0      1      0         2\n",
       "4         2    1  35.0      0      0         2\n",
       "..      ...  ...   ...    ...    ...       ...\n",
       "886       1    1  27.0      0      0         2\n",
       "887       0    0  19.0      0      0         2\n",
       "888       2    0  28.0      1      2         2\n",
       "889       0    1  26.0      0      0         0\n",
       "890       2    1  32.0      0      0         1\n",
       "\n",
       "[889 rows x 6 columns]"
      ]
     },
     "execution_count": 35,
     "metadata": {},
     "output_type": "execute_result"
    }
   ],
   "source": [
    "x=titanic.drop(['Survived'],axis=1)\n",
    "x"
   ]
  },
  {
   "cell_type": "code",
   "execution_count": 36,
   "metadata": {},
   "outputs": [],
   "source": [
    "from sklearn.preprocessing import StandardScaler"
   ]
  },
  {
   "cell_type": "code",
   "execution_count": 37,
   "metadata": {},
   "outputs": [],
   "source": [
    "sc=StandardScaler()"
   ]
  },
  {
   "cell_type": "code",
   "execution_count": 38,
   "metadata": {},
   "outputs": [],
   "source": [
    "x=sc.fit_transform(x)"
   ]
  },
  {
   "cell_type": "code",
   "execution_count": 39,
   "metadata": {},
   "outputs": [
    {
     "data": {
      "text/plain": [
       "array([[ 0.82520863,  0.73534203, -0.56367407,  0.43135024, -0.47432585,\n",
       "         0.58683958],\n",
       "       [-1.57221121, -1.35991138,  0.66921696,  0.43135024, -0.47432585,\n",
       "        -1.93955453],\n",
       "       [ 0.82520863, -1.35991138, -0.25545131, -0.47519908, -0.47432585,\n",
       "         0.58683958],\n",
       "       ...,\n",
       "       [ 0.82520863, -1.35991138, -0.10133993,  0.43135024,  2.00611934,\n",
       "         0.58683958],\n",
       "       [-1.57221121,  0.73534203, -0.25545131, -0.47519908, -0.47432585,\n",
       "        -1.93955453],\n",
       "       [ 0.82520863,  0.73534203,  0.20688282, -0.47519908, -0.47432585,\n",
       "        -0.67635748]])"
      ]
     },
     "execution_count": 39,
     "metadata": {},
     "output_type": "execute_result"
    }
   ],
   "source": [
    "x"
   ]
  },
  {
   "cell_type": "code",
   "execution_count": 40,
   "metadata": {},
   "outputs": [],
   "source": [
    "x=pd.DataFrame(data=x)"
   ]
  },
  {
   "cell_type": "code",
   "execution_count": 41,
   "metadata": {},
   "outputs": [
    {
     "data": {
      "text/html": [
       "<div>\n",
       "<style scoped>\n",
       "    .dataframe tbody tr th:only-of-type {\n",
       "        vertical-align: middle;\n",
       "    }\n",
       "\n",
       "    .dataframe tbody tr th {\n",
       "        vertical-align: top;\n",
       "    }\n",
       "\n",
       "    .dataframe thead th {\n",
       "        text-align: right;\n",
       "    }\n",
       "</style>\n",
       "<table border=\"1\" class=\"dataframe\">\n",
       "  <thead>\n",
       "    <tr style=\"text-align: right;\">\n",
       "      <th></th>\n",
       "      <th>0</th>\n",
       "      <th>1</th>\n",
       "      <th>2</th>\n",
       "      <th>3</th>\n",
       "      <th>4</th>\n",
       "      <th>5</th>\n",
       "    </tr>\n",
       "  </thead>\n",
       "  <tbody>\n",
       "    <tr>\n",
       "      <th>0</th>\n",
       "      <td>0.825209</td>\n",
       "      <td>0.735342</td>\n",
       "      <td>-0.563674</td>\n",
       "      <td>0.431350</td>\n",
       "      <td>-0.474326</td>\n",
       "      <td>0.586840</td>\n",
       "    </tr>\n",
       "    <tr>\n",
       "      <th>1</th>\n",
       "      <td>-1.572211</td>\n",
       "      <td>-1.359911</td>\n",
       "      <td>0.669217</td>\n",
       "      <td>0.431350</td>\n",
       "      <td>-0.474326</td>\n",
       "      <td>-1.939555</td>\n",
       "    </tr>\n",
       "    <tr>\n",
       "      <th>2</th>\n",
       "      <td>0.825209</td>\n",
       "      <td>-1.359911</td>\n",
       "      <td>-0.255451</td>\n",
       "      <td>-0.475199</td>\n",
       "      <td>-0.474326</td>\n",
       "      <td>0.586840</td>\n",
       "    </tr>\n",
       "    <tr>\n",
       "      <th>3</th>\n",
       "      <td>-1.572211</td>\n",
       "      <td>-1.359911</td>\n",
       "      <td>0.438050</td>\n",
       "      <td>0.431350</td>\n",
       "      <td>-0.474326</td>\n",
       "      <td>0.586840</td>\n",
       "    </tr>\n",
       "    <tr>\n",
       "      <th>4</th>\n",
       "      <td>0.825209</td>\n",
       "      <td>0.735342</td>\n",
       "      <td>0.438050</td>\n",
       "      <td>-0.475199</td>\n",
       "      <td>-0.474326</td>\n",
       "      <td>0.586840</td>\n",
       "    </tr>\n",
       "    <tr>\n",
       "      <th>...</th>\n",
       "      <td>...</td>\n",
       "      <td>...</td>\n",
       "      <td>...</td>\n",
       "      <td>...</td>\n",
       "      <td>...</td>\n",
       "      <td>...</td>\n",
       "    </tr>\n",
       "    <tr>\n",
       "      <th>884</th>\n",
       "      <td>-0.373501</td>\n",
       "      <td>0.735342</td>\n",
       "      <td>-0.178396</td>\n",
       "      <td>-0.475199</td>\n",
       "      <td>-0.474326</td>\n",
       "      <td>0.586840</td>\n",
       "    </tr>\n",
       "    <tr>\n",
       "      <th>885</th>\n",
       "      <td>-1.572211</td>\n",
       "      <td>-1.359911</td>\n",
       "      <td>-0.794841</td>\n",
       "      <td>-0.475199</td>\n",
       "      <td>-0.474326</td>\n",
       "      <td>0.586840</td>\n",
       "    </tr>\n",
       "    <tr>\n",
       "      <th>886</th>\n",
       "      <td>0.825209</td>\n",
       "      <td>-1.359911</td>\n",
       "      <td>-0.101340</td>\n",
       "      <td>0.431350</td>\n",
       "      <td>2.006119</td>\n",
       "      <td>0.586840</td>\n",
       "    </tr>\n",
       "    <tr>\n",
       "      <th>887</th>\n",
       "      <td>-1.572211</td>\n",
       "      <td>0.735342</td>\n",
       "      <td>-0.255451</td>\n",
       "      <td>-0.475199</td>\n",
       "      <td>-0.474326</td>\n",
       "      <td>-1.939555</td>\n",
       "    </tr>\n",
       "    <tr>\n",
       "      <th>888</th>\n",
       "      <td>0.825209</td>\n",
       "      <td>0.735342</td>\n",
       "      <td>0.206883</td>\n",
       "      <td>-0.475199</td>\n",
       "      <td>-0.474326</td>\n",
       "      <td>-0.676357</td>\n",
       "    </tr>\n",
       "  </tbody>\n",
       "</table>\n",
       "<p>889 rows × 6 columns</p>\n",
       "</div>"
      ],
      "text/plain": [
       "            0         1         2         3         4         5\n",
       "0    0.825209  0.735342 -0.563674  0.431350 -0.474326  0.586840\n",
       "1   -1.572211 -1.359911  0.669217  0.431350 -0.474326 -1.939555\n",
       "2    0.825209 -1.359911 -0.255451 -0.475199 -0.474326  0.586840\n",
       "3   -1.572211 -1.359911  0.438050  0.431350 -0.474326  0.586840\n",
       "4    0.825209  0.735342  0.438050 -0.475199 -0.474326  0.586840\n",
       "..        ...       ...       ...       ...       ...       ...\n",
       "884 -0.373501  0.735342 -0.178396 -0.475199 -0.474326  0.586840\n",
       "885 -1.572211 -1.359911 -0.794841 -0.475199 -0.474326  0.586840\n",
       "886  0.825209 -1.359911 -0.101340  0.431350  2.006119  0.586840\n",
       "887 -1.572211  0.735342 -0.255451 -0.475199 -0.474326 -1.939555\n",
       "888  0.825209  0.735342  0.206883 -0.475199 -0.474326 -0.676357\n",
       "\n",
       "[889 rows x 6 columns]"
      ]
     },
     "execution_count": 41,
     "metadata": {},
     "output_type": "execute_result"
    }
   ],
   "source": [
    "x"
   ]
  },
  {
   "cell_type": "code",
   "execution_count": 42,
   "metadata": {},
   "outputs": [
    {
     "data": {
      "text/plain": [
       "0      0\n",
       "1      1\n",
       "2      1\n",
       "3      1\n",
       "4      0\n",
       "      ..\n",
       "886    0\n",
       "887    1\n",
       "888    0\n",
       "889    1\n",
       "890    0\n",
       "Name: Survived, Length: 889, dtype: int64"
      ]
     },
     "execution_count": 42,
     "metadata": {},
     "output_type": "execute_result"
    }
   ],
   "source": [
    "y=titanic['Survived']\n",
    "y"
   ]
  },
  {
   "cell_type": "code",
   "execution_count": 43,
   "metadata": {},
   "outputs": [],
   "source": [
    "lg=LogisticRegression()"
   ]
  },
  {
   "cell_type": "code",
   "execution_count": 44,
   "metadata": {},
   "outputs": [
    {
     "name": "stdout",
     "output_type": "stream",
     "text": [
      "accuracy score corresponding to random state 33 is:  0.8146067415730337\n",
      "accuracy score corresponding to random state 34 is:  0.7921348314606742\n",
      "accuracy score corresponding to random state 35 is:  0.7696629213483146\n",
      "accuracy score corresponding to random state 36 is:  0.8146067415730337\n",
      "accuracy score corresponding to random state 37 is:  0.8089887640449438\n",
      "accuracy score corresponding to random state 38 is:  0.797752808988764\n",
      "accuracy score corresponding to random state 39 is:  0.8089887640449438\n",
      "accuracy score corresponding to random state 40 is:  0.7752808988764045\n",
      "accuracy score corresponding to random state 41 is:  0.7752808988764045\n",
      "accuracy score corresponding to random state 42 is:  0.7752808988764045\n",
      "accuracy score corresponding to random state 43 is:  0.8146067415730337\n",
      "accuracy score corresponding to random state 44 is:  0.7752808988764045\n",
      "accuracy score corresponding to random state 45 is:  0.7696629213483146\n",
      "accuracy score corresponding to random state 46 is:  0.7865168539325843\n",
      "accuracy score corresponding to random state 47 is:  0.8202247191011236\n",
      "accuracy score corresponding to random state 48 is:  0.7808988764044944\n",
      "accuracy score corresponding to random state 49 is:  0.797752808988764\n",
      "accuracy score corresponding to random state 50 is:  0.8202247191011236\n",
      "accuracy score corresponding to random state 51 is:  0.7921348314606742\n",
      "accuracy score corresponding to random state 52 is:  0.7415730337078652\n",
      "accuracy score corresponding to random state 53 is:  0.8033707865168539\n",
      "accuracy score corresponding to random state 54 is:  0.7752808988764045\n",
      "accuracy score corresponding to random state 55 is:  0.8089887640449438\n",
      "accuracy score corresponding to random state 56 is:  0.7696629213483146\n",
      "accuracy score corresponding to random state 57 is:  0.7921348314606742\n",
      "accuracy score corresponding to random state 58 is:  0.7808988764044944\n",
      "accuracy score corresponding to random state 59 is:  0.7808988764044944\n",
      "accuracy score corresponding to random state 60 is:  0.7865168539325843\n",
      "accuracy score corresponding to random state 61 is:  0.7696629213483146\n",
      "accuracy score corresponding to random state 62 is:  0.7808988764044944\n",
      "accuracy score corresponding to random state 63 is:  0.7528089887640449\n",
      "accuracy score corresponding to random state 64 is:  0.7584269662921348\n",
      "accuracy score corresponding to random state 65 is:  0.7808988764044944\n",
      "accuracy score corresponding to random state 66 is:  0.8314606741573034\n",
      "accuracy score corresponding to random state 67 is:  0.7921348314606742\n",
      "accuracy score corresponding to random state 68 is:  0.8595505617977528\n",
      "accuracy score corresponding to random state 69 is:  0.8370786516853933\n",
      "accuracy score corresponding to random state 70 is:  0.797752808988764\n",
      "accuracy score corresponding to random state 71 is:  0.848314606741573\n",
      "accuracy score corresponding to random state 72 is:  0.797752808988764\n",
      "accuracy score corresponding to random state 73 is:  0.7752808988764045\n",
      "accuracy score corresponding to random state 74 is:  0.8426966292134831\n",
      "accuracy score corresponding to random state 75 is:  0.7696629213483146\n",
      "accuracy score corresponding to random state 76 is:  0.8033707865168539\n",
      "accuracy score corresponding to random state 77 is:  0.8314606741573034\n",
      "accuracy score corresponding to random state 78 is:  0.8089887640449438\n",
      "accuracy score corresponding to random state 79 is:  0.7808988764044944\n",
      "accuracy score corresponding to random state 80 is:  0.7640449438202247\n",
      "accuracy score corresponding to random state 81 is:  0.8089887640449438\n",
      "accuracy score corresponding to random state 82 is:  0.8089887640449438\n",
      "accuracy score corresponding to random state 83 is:  0.8258426966292135\n",
      "accuracy score corresponding to random state 84 is:  0.8258426966292135\n",
      "accuracy score corresponding to random state 85 is:  0.7808988764044944\n",
      "accuracy score corresponding to random state 86 is:  0.7415730337078652\n",
      "accuracy score corresponding to random state 87 is:  0.7808988764044944\n",
      "accuracy score corresponding to random state 88 is:  0.7865168539325843\n",
      "accuracy score corresponding to random state 89 is:  0.7752808988764045\n",
      "accuracy score corresponding to random state 90 is:  0.7865168539325843\n",
      "accuracy score corresponding to random state 91 is:  0.8033707865168539\n",
      "accuracy score corresponding to random state 92 is:  0.7921348314606742\n",
      "accuracy score corresponding to random state 93 is:  0.7359550561797753\n",
      "accuracy score corresponding to random state 94 is:  0.8314606741573034\n",
      "accuracy score corresponding to random state 95 is:  0.8370786516853933\n",
      "accuracy score corresponding to random state 96 is:  0.8314606741573034\n",
      "accuracy score corresponding to random state 97 is:  0.7696629213483146\n",
      "accuracy score corresponding to random state 98 is:  0.7528089887640449\n",
      "accuracy score corresponding to random state 99 is:  0.7808988764044944\n",
      "accuracy score corresponding to random state 100 is:  0.7808988764044944\n",
      "\n",
      "\n",
      "Max accuracy score corresponding to:  68 is:  0.8595505617977528\n"
     ]
    }
   ],
   "source": [
    "max_r_score=0\n",
    "for i in range(33,101):\n",
    "    x_train,x_test,y_train,y_test=train_test_split(x,y,random_state=i,test_size=.20)\n",
    "    lg=LogisticRegression()\n",
    "    lg.fit(x_train,y_train)\n",
    "    pred=lg.predict(x_test)\n",
    "    score=lg.score(x_train,y_train)\n",
    "    accuracy=accuracy_score(pred,y_test)\n",
    "    print('accuracy score corresponding to random state',i,'is: ',accuracy)\n",
    "    if accuracy>max_r_score:\n",
    "        max_r_score=accuracy\n",
    "        final=i\n",
    "        \n",
    "print('\\n')\n",
    "print('Max accuracy score corresponding to: ', final,'is: ',max_r_score)    "
   ]
  },
  {
   "cell_type": "code",
   "execution_count": 45,
   "metadata": {},
   "outputs": [],
   "source": [
    "from sklearn.tree import DecisionTreeClassifier\n",
    "from sklearn.svm import SVC\n",
    "from sklearn.neighbors import KNeighborsClassifier\n",
    "from sklearn.naive_bayes import GaussianNB\n",
    "from sklearn.ensemble import RandomForestClassifier"
   ]
  },
  {
   "cell_type": "code",
   "execution_count": 46,
   "metadata": {},
   "outputs": [
    {
     "name": "stdout",
     "output_type": "stream",
     "text": [
      "The score of:  LogisticRegression() is:  0.7946554149085795\n",
      "accuracy score of LogisticRegression() is 0.8595505617977528\n",
      "confusion matrix: [[98  5]\n",
      " [20 55]]\n",
      "classification report:               precision    recall  f1-score   support\n",
      "\n",
      "           0       0.83      0.95      0.89       103\n",
      "           1       0.92      0.73      0.81        75\n",
      "\n",
      "    accuracy                           0.86       178\n",
      "   macro avg       0.87      0.84      0.85       178\n",
      "weighted avg       0.87      0.86      0.86       178\n",
      "\n",
      "\n",
      "\n",
      "The score of:  GaussianNB() is:  0.7777777777777778\n",
      "accuracy score of GaussianNB() is 0.848314606741573\n",
      "confusion matrix: [[94  9]\n",
      " [18 57]]\n",
      "classification report:               precision    recall  f1-score   support\n",
      "\n",
      "           0       0.84      0.91      0.87       103\n",
      "           1       0.86      0.76      0.81        75\n",
      "\n",
      "    accuracy                           0.85       178\n",
      "   macro avg       0.85      0.84      0.84       178\n",
      "weighted avg       0.85      0.85      0.85       178\n",
      "\n",
      "\n",
      "\n",
      "The score of:  SVC() is:  0.8270042194092827\n",
      "accuracy score of SVC() is 0.8539325842696629\n",
      "confusion matrix: [[97  6]\n",
      " [20 55]]\n",
      "classification report:               precision    recall  f1-score   support\n",
      "\n",
      "           0       0.83      0.94      0.88       103\n",
      "           1       0.90      0.73      0.81        75\n",
      "\n",
      "    accuracy                           0.85       178\n",
      "   macro avg       0.87      0.84      0.85       178\n",
      "weighted avg       0.86      0.85      0.85       178\n",
      "\n",
      "\n",
      "\n",
      "The score of:  DecisionTreeClassifier() is:  0.9338959212376934\n",
      "accuracy score of DecisionTreeClassifier() is 0.8876404494382022\n",
      "confusion matrix: [[101   2]\n",
      " [ 18  57]]\n",
      "classification report:               precision    recall  f1-score   support\n",
      "\n",
      "           0       0.85      0.98      0.91       103\n",
      "           1       0.97      0.76      0.85        75\n",
      "\n",
      "    accuracy                           0.89       178\n",
      "   macro avg       0.91      0.87      0.88       178\n",
      "weighted avg       0.90      0.89      0.88       178\n",
      "\n",
      "\n",
      "\n",
      "The score of:  KNeighborsClassifier() is:  0.8312236286919831\n",
      "accuracy score of KNeighborsClassifier() is 0.848314606741573\n",
      "confusion matrix: [[96  7]\n",
      " [20 55]]\n",
      "classification report:               precision    recall  f1-score   support\n",
      "\n",
      "           0       0.83      0.93      0.88       103\n",
      "           1       0.89      0.73      0.80        75\n",
      "\n",
      "    accuracy                           0.85       178\n",
      "   macro avg       0.86      0.83      0.84       178\n",
      "weighted avg       0.85      0.85      0.85       178\n",
      "\n",
      "\n",
      "\n",
      "The score of:  RandomForestClassifier() is:  0.9338959212376934\n",
      "accuracy score of RandomForestClassifier() is 0.8876404494382022\n",
      "confusion matrix: [[99  4]\n",
      " [16 59]]\n",
      "classification report:               precision    recall  f1-score   support\n",
      "\n",
      "           0       0.86      0.96      0.91       103\n",
      "           1       0.94      0.79      0.86        75\n",
      "\n",
      "    accuracy                           0.89       178\n",
      "   macro avg       0.90      0.87      0.88       178\n",
      "weighted avg       0.89      0.89      0.89       178\n",
      "\n",
      "\n",
      "\n"
     ]
    }
   ],
   "source": [
    "x_train,x_test,y_train,y_test=train_test_split(x,y,test_size=.20,random_state=68)\n",
    "model=[LogisticRegression(), GaussianNB() , SVC(), DecisionTreeClassifier(),KNeighborsClassifier(),RandomForestClassifier()]\n",
    "for m in model:\n",
    "    m.fit(x_train,y_train)\n",
    "    print('The score of: ',m,'is: ' ,m.score(x_train,y_train))\n",
    "    predm=m.predict(x_test)\n",
    "    print(\"accuracy score of\",m,\"is\",accuracy_score(y_test,predm))\n",
    "    print(\"confusion matrix:\", confusion_matrix(y_test,predm))\n",
    "    print(\"classification report:\",classification_report(y_test,predm))\n",
    "    print(\"\\n\")"
   ]
  },
  {
   "cell_type": "markdown",
   "metadata": {},
   "source": [
    "In the train test split model Random forest classifier algorithm is performing well."
   ]
  },
  {
   "cell_type": "markdown",
   "metadata": {},
   "source": [
    "# CROSS VALIDATION SCORE"
   ]
  },
  {
   "cell_type": "code",
   "execution_count": 47,
   "metadata": {},
   "outputs": [
    {
     "name": "stdout",
     "output_type": "stream",
     "text": [
      "The cross validation score for GaussianNB() is:  [0.75892857 0.74774775 0.81081081 0.79279279 0.78378378 0.8018018\n",
      " 0.75675676 0.81981982]\n",
      "The mean and standard deviations are:  0.7840552606177607 0.025201972558447465\n",
      "\n",
      "\n",
      "The cross validation score for SVC() is:  [0.80357143 0.81081081 0.83783784 0.83783784 0.81981982 0.78378378\n",
      " 0.81081081 0.86486486]\n",
      "The mean and standard deviations are:  0.8211671492921493 0.023422110958583073\n",
      "\n",
      "\n",
      "The cross validation score for LogisticRegression() is:  [0.78571429 0.79279279 0.8018018  0.8018018  0.8018018  0.75675676\n",
      " 0.81081081 0.85585586]\n",
      "The mean and standard deviations are:  0.8009169884169884 0.025898277803495146\n",
      "\n",
      "\n",
      "The cross validation score for DecisionTreeClassifier() is:  [0.78571429 0.74774775 0.77477477 0.79279279 0.81081081 0.78378378\n",
      " 0.79279279 0.8018018 ]\n",
      "The mean and standard deviations are:  0.7862773487773488 0.01785768634603734\n",
      "\n",
      "\n",
      "The cross validation score for KNeighborsClassifier() is:  [0.76785714 0.79279279 0.81981982 0.82882883 0.81981982 0.79279279\n",
      " 0.77477477 0.78378378]\n",
      "The mean and standard deviations are:  0.7975587194337195 0.02122911230301308\n",
      "\n",
      "\n",
      "The cross validation score for RandomForestClassifier() is:  [0.70535714 0.75675676 0.81981982 0.81981982 0.81981982 0.8018018\n",
      " 0.8018018  0.85585586]\n",
      "The mean and standard deviations are:  0.7976291023166022 0.04342684169048403\n",
      "\n",
      "\n"
     ]
    }
   ],
   "source": [
    "from sklearn.model_selection import cross_val_score\n",
    "list=[GaussianNB(),SVC(),LogisticRegression(),DecisionTreeClassifier(),KNeighborsClassifier(),RandomForestClassifier()]\n",
    "for i in list:\n",
    "    cvscore=cross_val_score(i,x,y,cv=8)\n",
    "    print('The cross validation score for',i,'is: ',cvscore)\n",
    "    print('The mean and standard deviations are: ',cvscore.mean(),cvscore.std())\n",
    "    print('\\n')"
   ]
  },
  {
   "cell_type": "markdown",
   "metadata": {},
   "source": [
    "In the cross validation model, we see that our score here is near to the above scores of train test split. So model is working well."
   ]
  },
  {
   "cell_type": "code",
   "execution_count": 48,
   "metadata": {},
   "outputs": [
    {
     "name": "stdout",
     "output_type": "stream",
     "text": [
      "for the algorithm : GaussianNB()\n",
      "accuracy score corresponding to random state 33 is:  0.8033707865168539\n",
      "accuracy score corresponding to random state 34 is:  0.7921348314606742\n",
      "accuracy score corresponding to random state 35 is:  0.7415730337078652\n",
      "accuracy score corresponding to random state 36 is:  0.8426966292134831\n",
      "accuracy score corresponding to random state 37 is:  0.7808988764044944\n",
      "accuracy score corresponding to random state 38 is:  0.7640449438202247\n",
      "accuracy score corresponding to random state 39 is:  0.7865168539325843\n",
      "accuracy score corresponding to random state 40 is:  0.7584269662921348\n",
      "accuracy score corresponding to random state 41 is:  0.7584269662921348\n",
      "accuracy score corresponding to random state 42 is:  0.7584269662921348\n",
      "accuracy score corresponding to random state 43 is:  0.8089887640449438\n",
      "accuracy score corresponding to random state 44 is:  0.7584269662921348\n",
      "accuracy score corresponding to random state 45 is:  0.7752808988764045\n",
      "accuracy score corresponding to random state 46 is:  0.7528089887640449\n",
      "accuracy score corresponding to random state 47 is:  0.8033707865168539\n",
      "accuracy score corresponding to random state 48 is:  0.7808988764044944\n",
      "accuracy score corresponding to random state 49 is:  0.797752808988764\n",
      "accuracy score corresponding to random state 50 is:  0.8202247191011236\n",
      "accuracy score corresponding to random state 51 is:  0.7808988764044944\n",
      "accuracy score corresponding to random state 52 is:  0.7415730337078652\n",
      "accuracy score corresponding to random state 53 is:  0.7528089887640449\n",
      "accuracy score corresponding to random state 54 is:  0.7808988764044944\n",
      "accuracy score corresponding to random state 55 is:  0.7808988764044944\n",
      "accuracy score corresponding to random state 56 is:  0.8033707865168539\n",
      "accuracy score corresponding to random state 57 is:  0.7865168539325843\n",
      "accuracy score corresponding to random state 58 is:  0.7696629213483146\n",
      "accuracy score corresponding to random state 59 is:  0.8033707865168539\n",
      "accuracy score corresponding to random state 60 is:  0.7640449438202247\n",
      "accuracy score corresponding to random state 61 is:  0.7528089887640449\n",
      "accuracy score corresponding to random state 62 is:  0.7921348314606742\n",
      "accuracy score corresponding to random state 63 is:  0.7752808988764045\n",
      "accuracy score corresponding to random state 64 is:  0.7584269662921348\n",
      "accuracy score corresponding to random state 65 is:  0.7696629213483146\n",
      "accuracy score corresponding to random state 66 is:  0.8258426966292135\n",
      "accuracy score corresponding to random state 67 is:  0.7696629213483146\n",
      "accuracy score corresponding to random state 68 is:  0.848314606741573\n",
      "accuracy score corresponding to random state 69 is:  0.7921348314606742\n",
      "accuracy score corresponding to random state 70 is:  0.7752808988764045\n",
      "accuracy score corresponding to random state 71 is:  0.8146067415730337\n",
      "accuracy score corresponding to random state 72 is:  0.8033707865168539\n",
      "accuracy score corresponding to random state 73 is:  0.7584269662921348\n",
      "accuracy score corresponding to random state 74 is:  0.8426966292134831\n",
      "accuracy score corresponding to random state 75 is:  0.7640449438202247\n",
      "accuracy score corresponding to random state 76 is:  0.8089887640449438\n",
      "accuracy score corresponding to random state 77 is:  0.8146067415730337\n",
      "accuracy score corresponding to random state 78 is:  0.7528089887640449\n",
      "accuracy score corresponding to random state 79 is:  0.7865168539325843\n",
      "accuracy score corresponding to random state 80 is:  0.7752808988764045\n",
      "accuracy score corresponding to random state 81 is:  0.8426966292134831\n",
      "accuracy score corresponding to random state 82 is:  0.797752808988764\n",
      "accuracy score corresponding to random state 83 is:  0.8258426966292135\n",
      "accuracy score corresponding to random state 84 is:  0.8089887640449438\n",
      "accuracy score corresponding to random state 85 is:  0.7808988764044944\n",
      "accuracy score corresponding to random state 86 is:  0.702247191011236\n",
      "accuracy score corresponding to random state 87 is:  0.7640449438202247\n",
      "accuracy score corresponding to random state 88 is:  0.7471910112359551\n",
      "accuracy score corresponding to random state 89 is:  0.7752808988764045\n",
      "accuracy score corresponding to random state 90 is:  0.7696629213483146\n",
      "accuracy score corresponding to random state 91 is:  0.8146067415730337\n",
      "accuracy score corresponding to random state 92 is:  0.7359550561797753\n",
      "accuracy score corresponding to random state 93 is:  0.7528089887640449\n",
      "accuracy score corresponding to random state 94 is:  0.797752808988764\n",
      "accuracy score corresponding to random state 95 is:  0.8033707865168539\n",
      "accuracy score corresponding to random state 96 is:  0.797752808988764\n",
      "accuracy score corresponding to random state 97 is:  0.797752808988764\n",
      "accuracy score corresponding to random state 98 is:  0.7808988764044944\n",
      "accuracy score corresponding to random state 99 is:  0.7696629213483146\n",
      "accuracy score corresponding to random state 100 is:  0.8033707865168539\n",
      "\n",
      "\n",
      "Max accuracy score corresponding to:  68 is:  0.848314606741573\n",
      "\n",
      "\n",
      "for the algorithm : SVC()\n",
      "accuracy score corresponding to random state 33 is:  0.8370786516853933\n",
      "accuracy score corresponding to random state 34 is:  0.848314606741573\n",
      "accuracy score corresponding to random state 35 is:  0.8370786516853933\n",
      "accuracy score corresponding to random state 36 is:  0.7921348314606742\n",
      "accuracy score corresponding to random state 37 is:  0.848314606741573\n",
      "accuracy score corresponding to random state 38 is:  0.8426966292134831\n",
      "accuracy score corresponding to random state 39 is:  0.8370786516853933\n",
      "accuracy score corresponding to random state 40 is:  0.8202247191011236\n",
      "accuracy score corresponding to random state 41 is:  0.7921348314606742\n",
      "accuracy score corresponding to random state 42 is:  0.8146067415730337\n",
      "accuracy score corresponding to random state 43 is:  0.8146067415730337\n",
      "accuracy score corresponding to random state 44 is:  0.7921348314606742\n",
      "accuracy score corresponding to random state 45 is:  0.7921348314606742\n",
      "accuracy score corresponding to random state 46 is:  0.7752808988764045\n",
      "accuracy score corresponding to random state 47 is:  0.8539325842696629\n",
      "accuracy score corresponding to random state 48 is:  0.8370786516853933\n",
      "accuracy score corresponding to random state 49 is:  0.8033707865168539\n",
      "accuracy score corresponding to random state 50 is:  0.848314606741573\n",
      "accuracy score corresponding to random state 51 is:  0.797752808988764\n",
      "accuracy score corresponding to random state 52 is:  0.797752808988764\n",
      "accuracy score corresponding to random state 53 is:  0.8089887640449438\n",
      "accuracy score corresponding to random state 54 is:  0.8314606741573034\n",
      "accuracy score corresponding to random state 55 is:  0.8202247191011236\n",
      "accuracy score corresponding to random state 56 is:  0.797752808988764\n",
      "accuracy score corresponding to random state 57 is:  0.8202247191011236\n",
      "accuracy score corresponding to random state 58 is:  0.7921348314606742\n",
      "accuracy score corresponding to random state 59 is:  0.7921348314606742\n",
      "accuracy score corresponding to random state 60 is:  0.8033707865168539\n",
      "accuracy score corresponding to random state 61 is:  0.7865168539325843\n",
      "accuracy score corresponding to random state 62 is:  0.7865168539325843\n",
      "accuracy score corresponding to random state 63 is:  0.797752808988764\n",
      "accuracy score corresponding to random state 64 is:  0.7808988764044944\n",
      "accuracy score corresponding to random state 65 is:  0.8033707865168539\n",
      "accuracy score corresponding to random state 66 is:  0.8651685393258427\n",
      "accuracy score corresponding to random state 67 is:  0.8370786516853933\n",
      "accuracy score corresponding to random state 68 is:  0.8539325842696629\n",
      "accuracy score corresponding to random state 69 is:  0.8651685393258427\n",
      "accuracy score corresponding to random state 70 is:  0.8033707865168539\n",
      "accuracy score corresponding to random state 71 is:  0.8539325842696629\n",
      "accuracy score corresponding to random state 72 is:  0.797752808988764\n",
      "accuracy score corresponding to random state 73 is:  0.7696629213483146\n",
      "accuracy score corresponding to random state 74 is:  0.8370786516853933\n",
      "accuracy score corresponding to random state 75 is:  0.8089887640449438\n",
      "accuracy score corresponding to random state 76 is:  0.8146067415730337\n",
      "accuracy score corresponding to random state 77 is:  0.8370786516853933\n",
      "accuracy score corresponding to random state 78 is:  0.8426966292134831\n",
      "accuracy score corresponding to random state 79 is:  0.8033707865168539\n",
      "accuracy score corresponding to random state 80 is:  0.8146067415730337\n",
      "accuracy score corresponding to random state 81 is:  0.848314606741573\n",
      "accuracy score corresponding to random state 82 is:  0.8426966292134831\n",
      "accuracy score corresponding to random state 83 is:  0.8314606741573034\n",
      "accuracy score corresponding to random state 84 is:  0.848314606741573\n",
      "accuracy score corresponding to random state 85 is:  0.8202247191011236\n",
      "accuracy score corresponding to random state 86 is:  0.7696629213483146\n",
      "accuracy score corresponding to random state 87 is:  0.7921348314606742\n",
      "accuracy score corresponding to random state 88 is:  0.8539325842696629\n",
      "accuracy score corresponding to random state 89 is:  0.8314606741573034\n",
      "accuracy score corresponding to random state 90 is:  0.797752808988764\n",
      "accuracy score corresponding to random state 91 is:  0.8539325842696629\n",
      "accuracy score corresponding to random state 92 is:  0.8258426966292135\n",
      "accuracy score corresponding to random state 93 is:  0.8033707865168539\n",
      "accuracy score corresponding to random state 94 is:  0.8370786516853933\n",
      "accuracy score corresponding to random state 95 is:  0.8539325842696629\n",
      "accuracy score corresponding to random state 96 is:  0.8651685393258427\n",
      "accuracy score corresponding to random state 97 is:  0.8146067415730337\n",
      "accuracy score corresponding to random state 98 is:  0.8089887640449438\n",
      "accuracy score corresponding to random state 99 is:  0.7584269662921348\n",
      "accuracy score corresponding to random state 100 is:  0.8314606741573034\n",
      "\n",
      "\n",
      "Max accuracy score corresponding to:  66 is:  0.8651685393258427\n",
      "\n",
      "\n",
      "for the algorithm : LogisticRegression()\n",
      "accuracy score corresponding to random state 33 is:  0.8146067415730337\n",
      "accuracy score corresponding to random state 34 is:  0.7921348314606742\n",
      "accuracy score corresponding to random state 35 is:  0.7696629213483146\n",
      "accuracy score corresponding to random state 36 is:  0.8146067415730337\n",
      "accuracy score corresponding to random state 37 is:  0.8089887640449438\n",
      "accuracy score corresponding to random state 38 is:  0.797752808988764\n",
      "accuracy score corresponding to random state 39 is:  0.8089887640449438\n",
      "accuracy score corresponding to random state 40 is:  0.7752808988764045\n",
      "accuracy score corresponding to random state 41 is:  0.7752808988764045\n",
      "accuracy score corresponding to random state 42 is:  0.7752808988764045\n",
      "accuracy score corresponding to random state 43 is:  0.8146067415730337\n",
      "accuracy score corresponding to random state 44 is:  0.7752808988764045\n",
      "accuracy score corresponding to random state 45 is:  0.7696629213483146\n",
      "accuracy score corresponding to random state 46 is:  0.7865168539325843\n",
      "accuracy score corresponding to random state 47 is:  0.8202247191011236\n",
      "accuracy score corresponding to random state 48 is:  0.7808988764044944\n",
      "accuracy score corresponding to random state 49 is:  0.797752808988764\n",
      "accuracy score corresponding to random state 50 is:  0.8202247191011236\n",
      "accuracy score corresponding to random state 51 is:  0.7921348314606742\n",
      "accuracy score corresponding to random state 52 is:  0.7415730337078652\n",
      "accuracy score corresponding to random state 53 is:  0.8033707865168539\n",
      "accuracy score corresponding to random state 54 is:  0.7752808988764045\n",
      "accuracy score corresponding to random state 55 is:  0.8089887640449438\n",
      "accuracy score corresponding to random state 56 is:  0.7696629213483146\n",
      "accuracy score corresponding to random state 57 is:  0.7921348314606742\n",
      "accuracy score corresponding to random state 58 is:  0.7808988764044944\n",
      "accuracy score corresponding to random state 59 is:  0.7808988764044944\n",
      "accuracy score corresponding to random state 60 is:  0.7865168539325843\n",
      "accuracy score corresponding to random state 61 is:  0.7696629213483146\n",
      "accuracy score corresponding to random state 62 is:  0.7808988764044944\n",
      "accuracy score corresponding to random state 63 is:  0.7528089887640449\n",
      "accuracy score corresponding to random state 64 is:  0.7584269662921348\n",
      "accuracy score corresponding to random state 65 is:  0.7808988764044944\n",
      "accuracy score corresponding to random state 66 is:  0.8314606741573034\n",
      "accuracy score corresponding to random state 67 is:  0.7921348314606742\n",
      "accuracy score corresponding to random state 68 is:  0.8595505617977528\n",
      "accuracy score corresponding to random state 69 is:  0.8370786516853933\n",
      "accuracy score corresponding to random state 70 is:  0.797752808988764\n",
      "accuracy score corresponding to random state 71 is:  0.848314606741573\n",
      "accuracy score corresponding to random state 72 is:  0.797752808988764\n",
      "accuracy score corresponding to random state 73 is:  0.7752808988764045\n",
      "accuracy score corresponding to random state 74 is:  0.8426966292134831\n",
      "accuracy score corresponding to random state 75 is:  0.7696629213483146\n",
      "accuracy score corresponding to random state 76 is:  0.8033707865168539\n",
      "accuracy score corresponding to random state 77 is:  0.8314606741573034\n",
      "accuracy score corresponding to random state 78 is:  0.8089887640449438\n",
      "accuracy score corresponding to random state 79 is:  0.7808988764044944\n",
      "accuracy score corresponding to random state 80 is:  0.7640449438202247\n",
      "accuracy score corresponding to random state 81 is:  0.8089887640449438\n",
      "accuracy score corresponding to random state 82 is:  0.8089887640449438\n",
      "accuracy score corresponding to random state 83 is:  0.8258426966292135\n",
      "accuracy score corresponding to random state 84 is:  0.8258426966292135\n",
      "accuracy score corresponding to random state 85 is:  0.7808988764044944\n",
      "accuracy score corresponding to random state 86 is:  0.7415730337078652\n",
      "accuracy score corresponding to random state 87 is:  0.7808988764044944\n",
      "accuracy score corresponding to random state 88 is:  0.7865168539325843\n",
      "accuracy score corresponding to random state 89 is:  0.7752808988764045\n",
      "accuracy score corresponding to random state 90 is:  0.7865168539325843\n",
      "accuracy score corresponding to random state 91 is:  0.8033707865168539\n",
      "accuracy score corresponding to random state 92 is:  0.7921348314606742\n",
      "accuracy score corresponding to random state 93 is:  0.7359550561797753\n",
      "accuracy score corresponding to random state 94 is:  0.8314606741573034\n",
      "accuracy score corresponding to random state 95 is:  0.8370786516853933\n",
      "accuracy score corresponding to random state 96 is:  0.8314606741573034\n",
      "accuracy score corresponding to random state 97 is:  0.7696629213483146\n",
      "accuracy score corresponding to random state 98 is:  0.7528089887640449\n",
      "accuracy score corresponding to random state 99 is:  0.7808988764044944\n",
      "accuracy score corresponding to random state 100 is:  0.7808988764044944\n",
      "\n",
      "\n",
      "Max accuracy score corresponding to:  68 is:  0.8595505617977528\n",
      "\n",
      "\n",
      "for the algorithm : DecisionTreeClassifier()\n",
      "accuracy score corresponding to random state 33 is:  0.8314606741573034\n",
      "accuracy score corresponding to random state 34 is:  0.8370786516853933\n",
      "accuracy score corresponding to random state 35 is:  0.7640449438202247\n",
      "accuracy score corresponding to random state 36 is:  0.8370786516853933\n",
      "accuracy score corresponding to random state 37 is:  0.797752808988764\n",
      "accuracy score corresponding to random state 38 is:  0.7921348314606742\n",
      "accuracy score corresponding to random state 39 is:  0.8033707865168539\n",
      "accuracy score corresponding to random state 40 is:  0.8426966292134831\n",
      "accuracy score corresponding to random state 41 is:  0.7921348314606742\n",
      "accuracy score corresponding to random state 42 is:  0.7921348314606742\n",
      "accuracy score corresponding to random state 43 is:  0.7921348314606742\n",
      "accuracy score corresponding to random state 44 is:  0.7471910112359551\n",
      "accuracy score corresponding to random state 45 is:  0.7696629213483146\n",
      "accuracy score corresponding to random state 46 is:  0.7528089887640449\n",
      "accuracy score corresponding to random state 47 is:  0.8146067415730337\n",
      "accuracy score corresponding to random state 48 is:  0.797752808988764\n",
      "accuracy score corresponding to random state 49 is:  0.7752808988764045\n",
      "accuracy score corresponding to random state 50 is:  0.8089887640449438\n",
      "accuracy score corresponding to random state 51 is:  0.7415730337078652\n",
      "accuracy score corresponding to random state 52 is:  0.7247191011235955\n",
      "accuracy score corresponding to random state 53 is:  0.7640449438202247\n",
      "accuracy score corresponding to random state 54 is:  0.797752808988764\n",
      "accuracy score corresponding to random state 55 is:  0.7865168539325843\n",
      "accuracy score corresponding to random state 56 is:  0.8146067415730337\n",
      "accuracy score corresponding to random state 57 is:  0.8146067415730337\n",
      "accuracy score corresponding to random state 58 is:  0.8202247191011236\n",
      "accuracy score corresponding to random state 59 is:  0.7528089887640449\n",
      "accuracy score corresponding to random state 60 is:  0.8146067415730337\n",
      "accuracy score corresponding to random state 61 is:  0.7584269662921348\n",
      "accuracy score corresponding to random state 62 is:  0.8033707865168539\n",
      "accuracy score corresponding to random state 63 is:  0.7752808988764045\n",
      "accuracy score corresponding to random state 64 is:  0.7696629213483146\n",
      "accuracy score corresponding to random state 65 is:  0.8089887640449438\n",
      "accuracy score corresponding to random state 66 is:  0.8202247191011236\n",
      "accuracy score corresponding to random state 67 is:  0.7865168539325843\n",
      "accuracy score corresponding to random state 68 is:  0.8876404494382022\n",
      "accuracy score corresponding to random state 69 is:  0.848314606741573\n",
      "accuracy score corresponding to random state 70 is:  0.7752808988764045\n",
      "accuracy score corresponding to random state 71 is:  0.8314606741573034\n",
      "accuracy score corresponding to random state 72 is:  0.7752808988764045\n",
      "accuracy score corresponding to random state 73 is:  0.7752808988764045\n",
      "accuracy score corresponding to random state 74 is:  0.8595505617977528\n",
      "accuracy score corresponding to random state 75 is:  0.797752808988764\n",
      "accuracy score corresponding to random state 76 is:  0.8370786516853933\n",
      "accuracy score corresponding to random state 77 is:  0.7865168539325843\n",
      "accuracy score corresponding to random state 78 is:  0.8202247191011236\n",
      "accuracy score corresponding to random state 79 is:  0.7808988764044944\n",
      "accuracy score corresponding to random state 80 is:  0.7640449438202247\n",
      "accuracy score corresponding to random state 81 is:  0.8314606741573034\n",
      "accuracy score corresponding to random state 82 is:  0.797752808988764\n",
      "accuracy score corresponding to random state 83 is:  0.8146067415730337\n",
      "accuracy score corresponding to random state 84 is:  0.7415730337078652\n",
      "accuracy score corresponding to random state 85 is:  0.7471910112359551\n",
      "accuracy score corresponding to random state 86 is:  0.7584269662921348\n",
      "accuracy score corresponding to random state 87 is:  0.7584269662921348\n",
      "accuracy score corresponding to random state 88 is:  0.7921348314606742\n",
      "accuracy score corresponding to random state 89 is:  0.7808988764044944\n",
      "accuracy score corresponding to random state 90 is:  0.7808988764044944\n",
      "accuracy score corresponding to random state 91 is:  0.848314606741573\n",
      "accuracy score corresponding to random state 92 is:  0.8202247191011236\n",
      "accuracy score corresponding to random state 93 is:  0.7640449438202247\n",
      "accuracy score corresponding to random state 94 is:  0.7921348314606742\n",
      "accuracy score corresponding to random state 95 is:  0.8314606741573034\n",
      "accuracy score corresponding to random state 96 is:  0.8146067415730337\n",
      "accuracy score corresponding to random state 97 is:  0.8089887640449438\n",
      "accuracy score corresponding to random state 98 is:  0.7640449438202247\n",
      "accuracy score corresponding to random state 99 is:  0.7415730337078652\n",
      "accuracy score corresponding to random state 100 is:  0.8033707865168539\n",
      "\n",
      "\n",
      "Max accuracy score corresponding to:  68 is:  0.8876404494382022\n",
      "\n",
      "\n",
      "for the algorithm : KNeighborsClassifier()\n",
      "accuracy score corresponding to random state 33 is:  0.8314606741573034\n",
      "accuracy score corresponding to random state 34 is:  0.8314606741573034\n",
      "accuracy score corresponding to random state 35 is:  0.7865168539325843\n",
      "accuracy score corresponding to random state 36 is:  0.7865168539325843\n",
      "accuracy score corresponding to random state 37 is:  0.7921348314606742\n",
      "accuracy score corresponding to random state 38 is:  0.8033707865168539\n",
      "accuracy score corresponding to random state 39 is:  0.8033707865168539\n",
      "accuracy score corresponding to random state 40 is:  0.7865168539325843\n",
      "accuracy score corresponding to random state 41 is:  0.7584269662921348\n",
      "accuracy score corresponding to random state 42 is:  0.7921348314606742\n",
      "accuracy score corresponding to random state 43 is:  0.7808988764044944\n",
      "accuracy score corresponding to random state 44 is:  0.7471910112359551\n",
      "accuracy score corresponding to random state 45 is:  0.7808988764044944\n",
      "accuracy score corresponding to random state 46 is:  0.7415730337078652\n",
      "accuracy score corresponding to random state 47 is:  0.8202247191011236\n",
      "accuracy score corresponding to random state 48 is:  0.797752808988764\n",
      "accuracy score corresponding to random state 49 is:  0.7808988764044944\n",
      "accuracy score corresponding to random state 50 is:  0.8033707865168539\n",
      "accuracy score corresponding to random state 51 is:  0.7921348314606742\n",
      "accuracy score corresponding to random state 52 is:  0.7640449438202247\n",
      "accuracy score corresponding to random state 53 is:  0.7808988764044944\n",
      "accuracy score corresponding to random state 54 is:  0.797752808988764\n",
      "accuracy score corresponding to random state 55 is:  0.797752808988764\n",
      "accuracy score corresponding to random state 56 is:  0.8089887640449438\n",
      "accuracy score corresponding to random state 57 is:  0.7921348314606742\n",
      "accuracy score corresponding to random state 58 is:  0.7808988764044944\n",
      "accuracy score corresponding to random state 59 is:  0.7528089887640449\n",
      "accuracy score corresponding to random state 60 is:  0.8146067415730337\n",
      "accuracy score corresponding to random state 61 is:  0.7752808988764045\n",
      "accuracy score corresponding to random state 62 is:  0.7865168539325843\n",
      "accuracy score corresponding to random state 63 is:  0.7865168539325843\n",
      "accuracy score corresponding to random state 64 is:  0.7528089887640449\n",
      "accuracy score corresponding to random state 65 is:  0.8202247191011236\n",
      "accuracy score corresponding to random state 66 is:  0.8146067415730337\n",
      "accuracy score corresponding to random state 67 is:  0.7640449438202247\n",
      "accuracy score corresponding to random state 68 is:  0.848314606741573\n",
      "accuracy score corresponding to random state 69 is:  0.8426966292134831\n",
      "accuracy score corresponding to random state 70 is:  0.7752808988764045\n",
      "accuracy score corresponding to random state 71 is:  0.8426966292134831\n",
      "accuracy score corresponding to random state 72 is:  0.7865168539325843\n",
      "accuracy score corresponding to random state 73 is:  0.7808988764044944\n",
      "accuracy score corresponding to random state 74 is:  0.848314606741573\n",
      "accuracy score corresponding to random state 75 is:  0.7808988764044944\n",
      "accuracy score corresponding to random state 76 is:  0.7921348314606742\n",
      "accuracy score corresponding to random state 77 is:  0.8258426966292135\n",
      "accuracy score corresponding to random state 78 is:  0.8033707865168539\n",
      "accuracy score corresponding to random state 79 is:  0.8033707865168539\n",
      "accuracy score corresponding to random state 80 is:  0.7865168539325843\n",
      "accuracy score corresponding to random state 81 is:  0.8202247191011236\n",
      "accuracy score corresponding to random state 82 is:  0.8146067415730337\n",
      "accuracy score corresponding to random state 83 is:  0.8089887640449438\n",
      "accuracy score corresponding to random state 84 is:  0.7808988764044944\n",
      "accuracy score corresponding to random state 85 is:  0.797752808988764\n",
      "accuracy score corresponding to random state 86 is:  0.7528089887640449\n",
      "accuracy score corresponding to random state 87 is:  0.7415730337078652\n",
      "accuracy score corresponding to random state 88 is:  0.8146067415730337\n",
      "accuracy score corresponding to random state 89 is:  0.7808988764044944\n",
      "accuracy score corresponding to random state 90 is:  0.7808988764044944\n",
      "accuracy score corresponding to random state 91 is:  0.8089887640449438\n",
      "accuracy score corresponding to random state 92 is:  0.7808988764044944\n",
      "accuracy score corresponding to random state 93 is:  0.7640449438202247\n",
      "accuracy score corresponding to random state 94 is:  0.8202247191011236\n",
      "accuracy score corresponding to random state 95 is:  0.8595505617977528\n",
      "accuracy score corresponding to random state 96 is:  0.8146067415730337\n",
      "accuracy score corresponding to random state 97 is:  0.7808988764044944\n",
      "accuracy score corresponding to random state 98 is:  0.8033707865168539\n",
      "accuracy score corresponding to random state 99 is:  0.7134831460674157\n",
      "accuracy score corresponding to random state 100 is:  0.8089887640449438\n",
      "\n",
      "\n",
      "Max accuracy score corresponding to:  95 is:  0.8595505617977528\n",
      "\n",
      "\n",
      "for the algorithm : RandomForestClassifier()\n",
      "accuracy score corresponding to random state 33 is:  0.8033707865168539\n",
      "accuracy score corresponding to random state 34 is:  0.8539325842696629\n",
      "accuracy score corresponding to random state 35 is:  0.7640449438202247\n",
      "accuracy score corresponding to random state 36 is:  0.8258426966292135\n",
      "accuracy score corresponding to random state 37 is:  0.8033707865168539\n",
      "accuracy score corresponding to random state 38 is:  0.8370786516853933\n",
      "accuracy score corresponding to random state 39 is:  0.8202247191011236\n",
      "accuracy score corresponding to random state 40 is:  0.8202247191011236\n",
      "accuracy score corresponding to random state 41 is:  0.797752808988764\n",
      "accuracy score corresponding to random state 42 is:  0.8033707865168539\n",
      "accuracy score corresponding to random state 43 is:  0.7921348314606742\n",
      "accuracy score corresponding to random state 44 is:  0.7471910112359551\n",
      "accuracy score corresponding to random state 45 is:  0.8089887640449438\n",
      "accuracy score corresponding to random state 46 is:  0.7528089887640449\n",
      "accuracy score corresponding to random state 47 is:  0.8370786516853933\n",
      "accuracy score corresponding to random state 48 is:  0.8033707865168539\n",
      "accuracy score corresponding to random state 49 is:  0.7640449438202247\n",
      "accuracy score corresponding to random state 50 is:  0.8146067415730337\n",
      "accuracy score corresponding to random state 51 is:  0.7921348314606742\n",
      "accuracy score corresponding to random state 52 is:  0.7696629213483146\n",
      "accuracy score corresponding to random state 53 is:  0.7921348314606742\n",
      "accuracy score corresponding to random state 54 is:  0.7865168539325843\n",
      "accuracy score corresponding to random state 55 is:  0.8258426966292135\n",
      "accuracy score corresponding to random state 56 is:  0.8033707865168539\n",
      "accuracy score corresponding to random state 57 is:  0.8258426966292135\n",
      "accuracy score corresponding to random state 58 is:  0.8202247191011236\n",
      "accuracy score corresponding to random state 59 is:  0.7808988764044944\n",
      "accuracy score corresponding to random state 60 is:  0.797752808988764\n",
      "accuracy score corresponding to random state 61 is:  0.7640449438202247\n",
      "accuracy score corresponding to random state 62 is:  0.7921348314606742\n",
      "accuracy score corresponding to random state 63 is:  0.8146067415730337\n",
      "accuracy score corresponding to random state 64 is:  0.8146067415730337\n",
      "accuracy score corresponding to random state 65 is:  0.8202247191011236\n",
      "accuracy score corresponding to random state 66 is:  0.8314606741573034\n",
      "accuracy score corresponding to random state 67 is:  0.8089887640449438\n",
      "accuracy score corresponding to random state 68 is:  0.8820224719101124\n",
      "accuracy score corresponding to random state 69 is:  0.848314606741573\n",
      "accuracy score corresponding to random state 70 is:  0.7640449438202247\n",
      "accuracy score corresponding to random state 71 is:  0.8033707865168539\n",
      "accuracy score corresponding to random state 72 is:  0.7865168539325843\n",
      "accuracy score corresponding to random state 73 is:  0.797752808988764\n",
      "accuracy score corresponding to random state 74 is:  0.8595505617977528\n",
      "accuracy score corresponding to random state 75 is:  0.8202247191011236\n",
      "accuracy score corresponding to random state 76 is:  0.8202247191011236\n",
      "accuracy score corresponding to random state 77 is:  0.8033707865168539\n",
      "accuracy score corresponding to random state 78 is:  0.8089887640449438\n",
      "accuracy score corresponding to random state 79 is:  0.8089887640449438\n",
      "accuracy score corresponding to random state 80 is:  0.7808988764044944\n",
      "accuracy score corresponding to random state 81 is:  0.848314606741573\n",
      "accuracy score corresponding to random state 82 is:  0.8202247191011236\n",
      "accuracy score corresponding to random state 83 is:  0.8146067415730337\n",
      "accuracy score corresponding to random state 84 is:  0.7808988764044944\n",
      "accuracy score corresponding to random state 85 is:  0.7865168539325843\n",
      "accuracy score corresponding to random state 86 is:  0.7584269662921348\n",
      "accuracy score corresponding to random state 87 is:  0.7471910112359551\n",
      "accuracy score corresponding to random state 88 is:  0.797752808988764\n",
      "accuracy score corresponding to random state 89 is:  0.7752808988764045\n",
      "accuracy score corresponding to random state 90 is:  0.7696629213483146\n",
      "accuracy score corresponding to random state 91 is:  0.8651685393258427\n",
      "accuracy score corresponding to random state 92 is:  0.8089887640449438\n",
      "accuracy score corresponding to random state 93 is:  0.7808988764044944\n",
      "accuracy score corresponding to random state 94 is:  0.8202247191011236\n",
      "accuracy score corresponding to random state 95 is:  0.848314606741573\n",
      "accuracy score corresponding to random state 96 is:  0.7865168539325843\n",
      "accuracy score corresponding to random state 97 is:  0.8202247191011236\n",
      "accuracy score corresponding to random state 98 is:  0.7528089887640449\n",
      "accuracy score corresponding to random state 99 is:  0.7359550561797753\n",
      "accuracy score corresponding to random state 100 is:  0.797752808988764\n",
      "\n",
      "\n",
      "Max accuracy score corresponding to:  68 is:  0.8820224719101124\n",
      "\n",
      "\n"
     ]
    }
   ],
   "source": [
    "a=[GaussianNB(),SVC(),LogisticRegression(),DecisionTreeClassifier(),KNeighborsClassifier(),RandomForestClassifier()]\n",
    "for j in a:\n",
    "    max_r_score=0\n",
    "    print('for the algorithm :',j)\n",
    "    for i in range(33,101):\n",
    "        x_train,x_test,y_train,y_test=train_test_split(x,y,random_state=i,test_size=.20)\n",
    "        j.fit(x_train,y_train)\n",
    "        pred=j.predict(x_test)\n",
    "        score=j.score(x_train,y_train)\n",
    "        accuracy=accuracy_score(pred,y_test)\n",
    "        print('accuracy score corresponding to random state',i,'is: ',accuracy)\n",
    "        if accuracy>max_r_score:\n",
    "            max_r_score=accuracy\n",
    "            final=i\n",
    "    print('\\n')\n",
    "    print('Max accuracy score corresponding to: ', final,'is: ',max_r_score)\n",
    "    print('\\n')\n",
    "        \n"
   ]
  },
  {
   "cell_type": "markdown",
   "metadata": {},
   "source": [
    "With hyperprameter tuning we have observed that in the train test split model Decision Tree classifier is working well at random state of 68, providing the accuracy score of 0.88764."
   ]
  },
  {
   "cell_type": "code",
   "execution_count": 49,
   "metadata": {},
   "outputs": [],
   "source": [
    "dtc=DecisionTreeClassifier(criterion ='gini')"
   ]
  },
  {
   "cell_type": "code",
   "execution_count": 50,
   "metadata": {},
   "outputs": [
    {
     "name": "stdout",
     "output_type": "stream",
     "text": [
      "0.9338959212376934\n",
      "Accuracy score:  0.8764044943820225\n",
      "Confusion matrix:  [[100   3]\n",
      " [ 19  56]]\n",
      "Classification report:                precision    recall  f1-score   support\n",
      "\n",
      "           0       0.84      0.97      0.90       103\n",
      "           1       0.95      0.75      0.84        75\n",
      "\n",
      "    accuracy                           0.88       178\n",
      "   macro avg       0.89      0.86      0.87       178\n",
      "weighted avg       0.89      0.88      0.87       178\n",
      "\n"
     ]
    }
   ],
   "source": [
    "x_train,x_test,y_train,y_test=train_test_split(x,y,test_size=.20,random_state=68)\n",
    "dtc.fit(x_train,y_train)\n",
    "print(dtc.score(x_train,y_train))\n",
    "pred=dtc.predict(x_test)\n",
    "print(\"Accuracy score: \",accuracy_score(y_test,pred))\n",
    "print(\"Confusion matrix: \",confusion_matrix(y_test,pred))\n",
    "print('Classification report: ',classification_report(y_test,pred))"
   ]
  },
  {
   "cell_type": "code",
   "execution_count": 51,
   "metadata": {},
   "outputs": [],
   "source": [
    "from sklearn.metrics import roc_curve,roc_auc_score"
   ]
  },
  {
   "cell_type": "code",
   "execution_count": 52,
   "metadata": {},
   "outputs": [
    {
     "data": {
      "text/plain": [
       "array([0.        , 0.5       , 1.        , 0.        , 1.        ,\n",
       "       1.        , 0.        , 0.        , 0.        , 0.        ,\n",
       "       0.        , 0.16666667, 0.8       , 0.25      , 0.        ,\n",
       "       0.09756098, 0.        , 1.        , 1.        , 1.        ,\n",
       "       0.14285714, 1.        , 0.23076923, 0.        , 0.        ,\n",
       "       0.        , 0.        , 0.        , 0.09756098, 0.        ,\n",
       "       0.07142857, 1.        , 0.        , 0.1       , 0.        ,\n",
       "       0.        , 0.5       , 0.        , 0.23076923, 0.        ,\n",
       "       1.        , 0.        , 0.        , 0.        , 1.        ,\n",
       "       0.        , 0.        , 0.        , 1.        , 1.        ,\n",
       "       0.33333333, 0.09756098, 0.        , 0.        , 0.09756098,\n",
       "       1.        , 0.        , 1.        , 0.        , 0.        ,\n",
       "       0.        , 1.        , 0.66666667, 1.        , 0.1       ,\n",
       "       1.        , 0.        , 1.        , 1.        , 0.14285714,\n",
       "       0.23076923, 0.09756098, 0.        , 0.        , 1.        ,\n",
       "       1.        , 0.        , 1.        , 0.        , 0.0625    ,\n",
       "       0.        , 1.        , 1.        , 0.        , 0.        ,\n",
       "       1.        , 0.5       , 0.        , 0.        , 1.        ,\n",
       "       1.        , 0.0625    , 0.        , 1.        , 1.        ,\n",
       "       0.        , 0.        , 0.        , 0.        , 0.        ,\n",
       "       1.        , 0.5       , 1.        , 0.        , 0.        ,\n",
       "       0.        , 1.        , 1.        , 1.        , 0.14285714,\n",
       "       0.        , 0.        , 1.        , 0.        , 1.        ,\n",
       "       0.        , 0.        , 0.11111111, 0.23076923, 0.8       ,\n",
       "       0.14285714, 1.        , 1.        , 0.        , 0.        ,\n",
       "       0.        , 1.        , 0.        , 1.        , 0.09756098,\n",
       "       1.        , 0.        , 0.        , 1.        , 0.09756098,\n",
       "       0.        , 1.        , 0.0625    , 0.09756098, 0.0625    ,\n",
       "       0.09756098, 1.        , 0.5       , 0.        , 0.23076923,\n",
       "       0.        , 0.        , 0.        , 0.25      , 0.        ,\n",
       "       1.        , 0.        , 0.        , 0.        , 0.09756098,\n",
       "       0.5       , 1.        , 1.        , 0.        , 0.5       ,\n",
       "       0.25      , 1.        , 1.        , 1.        , 0.        ,\n",
       "       1.        , 0.33333333, 0.5       , 1.        , 0.        ,\n",
       "       1.        , 1.        , 1.        , 1.        , 0.        ,\n",
       "       0.        , 0.        , 0.        ])"
      ]
     },
     "execution_count": 52,
     "metadata": {},
     "output_type": "execute_result"
    }
   ],
   "source": [
    "y_pred_prob=dtc.predict_proba(x_test)[:,-1]\n",
    "y_pred_prob"
   ]
  },
  {
   "cell_type": "code",
   "execution_count": 53,
   "metadata": {},
   "outputs": [],
   "source": [
    "fpr,tpr,thresholds=roc_curve(y_test,y_pred_prob)"
   ]
  },
  {
   "cell_type": "code",
   "execution_count": 54,
   "metadata": {},
   "outputs": [
    {
     "data": {
      "text/plain": [
       "array([0.        , 0.02912621, 0.02912621, 0.02912621, 0.0776699 ,\n",
       "       0.09708738, 0.12621359, 0.14563107, 0.15533981, 0.19417476,\n",
       "       0.2038835 , 0.22330097, 0.32038835, 0.33009709, 0.36893204,\n",
       "       1.        ])"
      ]
     },
     "execution_count": 54,
     "metadata": {},
     "output_type": "execute_result"
    }
   ],
   "source": [
    "fpr"
   ]
  },
  {
   "cell_type": "code",
   "execution_count": 55,
   "metadata": {},
   "outputs": [
    {
     "data": {
      "text/plain": [
       "array([0.        , 0.70666667, 0.73333333, 0.74666667, 0.78666667,\n",
       "       0.78666667, 0.78666667, 0.82666667, 0.82666667, 0.82666667,\n",
       "       0.82666667, 0.82666667, 0.82666667, 0.82666667, 0.82666667,\n",
       "       1.        ])"
      ]
     },
     "execution_count": 55,
     "metadata": {},
     "output_type": "execute_result"
    }
   ],
   "source": [
    "tpr"
   ]
  },
  {
   "cell_type": "code",
   "execution_count": 56,
   "metadata": {},
   "outputs": [
    {
     "data": {
      "text/plain": [
       "array([2.        , 1.        , 0.8       , 0.66666667, 0.5       ,\n",
       "       0.33333333, 0.25      , 0.23076923, 0.16666667, 0.14285714,\n",
       "       0.11111111, 0.1       , 0.09756098, 0.07142857, 0.0625    ,\n",
       "       0.        ])"
      ]
     },
     "execution_count": 56,
     "metadata": {},
     "output_type": "execute_result"
    }
   ],
   "source": [
    "thresholds"
   ]
  },
  {
   "cell_type": "code",
   "execution_count": 57,
   "metadata": {},
   "outputs": [
    {
     "data": {
      "image/png": "[encoded data removed]",
      "text/plain": [
       "<Figure size 432x288 with 1 Axes>"
      ]
     },
     "metadata": {
      "needs_background": "light"
     },
     "output_type": "display_data"
    }
   ],
   "source": [
    "plt.plot([0,1],[0,1],'k--')\n",
    "plt.plot(fpr,tpr,label='Decision Tree Classifier')\n",
    "plt.xlabel('False positive rate')\n",
    "plt.ylabel('True positive rate')\n",
    "plt.title('DecisionTree Classifier')\n",
    "plt.show()"
   ]
  },
  {
   "cell_type": "code",
   "execution_count": 58,
   "metadata": {},
   "outputs": [
    {
     "name": "stdout",
     "output_type": "stream",
     "text": [
      "0.8587702265372168\n"
     ]
    }
   ],
   "source": [
    "auc_score=roc_auc_score(y_test,dtc.predict(x_test))\n",
    "print(auc_score)"
   ]
  },
  {
   "cell_type": "code",
   "execution_count": 59,
   "metadata": {},
   "outputs": [
    {
     "data": {
      "text/plain": [
       "array([0, 0, 1, 0, 1, 1, 0, 0, 0, 0, 0, 0, 1, 0, 0, 0, 0, 1, 1, 1, 0, 1,\n",
       "       0, 0, 0, 0, 0, 0, 0, 0, 0, 1, 0, 0, 0, 0, 0, 0, 0, 0, 1, 0, 0, 0,\n",
       "       1, 0, 0, 0, 1, 1, 0, 0, 0, 0, 0, 1, 0, 1, 0, 0, 0, 1, 1, 1, 0, 1,\n",
       "       0, 1, 1, 0, 0, 0, 0, 0, 1, 1, 0, 1, 0, 0, 0, 1, 1, 0, 0, 1, 0, 0,\n",
       "       0, 1, 1, 0, 0, 1, 1, 0, 0, 0, 0, 0, 1, 0, 1, 0, 0, 0, 1, 1, 1, 0,\n",
       "       0, 0, 1, 0, 1, 0, 0, 0, 0, 1, 0, 1, 1, 0, 0, 0, 1, 0, 1, 0, 1, 0,\n",
       "       0, 1, 0, 0, 1, 0, 0, 0, 0, 1, 0, 0, 0, 0, 0, 0, 0, 0, 1, 0, 0, 0,\n",
       "       0, 0, 1, 1, 0, 0, 0, 1, 1, 1, 0, 1, 0, 0, 1, 0, 1, 1, 1, 1, 0, 0,\n",
       "       0, 0], dtype=int64)"
      ]
     },
     "execution_count": 59,
     "metadata": {},
     "output_type": "execute_result"
    }
   ],
   "source": [
    "import joblib\n",
    "joblib.dump(dtc,'titanic_dtc.obj')\n",
    "dtc_from_joblib=joblib.load('titanic_dtc.obj')\n",
    "dtc_from_joblib.predict(x_test)"
   ]
  },
  {
   "cell_type": "code",
   "execution_count": 60,
   "metadata": {},
   "outputs": [
    {
     "data": {
      "text/plain": [
       "289    1\n",
       "632    1\n",
       "366    1\n",
       "634    0\n",
       "513    1\n",
       "      ..\n",
       "347    1\n",
       "673    1\n",
       "171    0\n",
       "881    0\n",
       "757    0\n",
       "Name: Survived, Length: 178, dtype: int64"
      ]
     },
     "execution_count": 60,
     "metadata": {},
     "output_type": "execute_result"
    }
   ],
   "source": [
    "y_test"
   ]
  },
  {
   "cell_type": "code",
   "execution_count": null,
   "metadata": {},
   "outputs": [],
   "source": []
  },
  {
   "cell_type": "code",
   "execution_count": null,
   "metadata": {},
   "outputs": [],
   "source": []
  }
 ],
 "metadata": {
  "kernelspec": {
   "display_name": "Python 3",
   "language": "python",
   "name": "python3"
  },
  "language_info": {
   "codemirror_mode": {
    "name": "ipython",
    "version": 3
   },
   "file_extension": ".py",
   "mimetype": "text/x-python",
   "name": "python",
   "nbconvert_exporter": "python",
   "pygments_lexer": "ipython3",
   "version": "3.8.3"
  }
 },
 "nbformat": 4,
 "nbformat_minor": 4
}
